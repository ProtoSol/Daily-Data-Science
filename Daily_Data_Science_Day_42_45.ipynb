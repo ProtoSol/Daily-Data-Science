{
  "nbformat": 4,
  "nbformat_minor": 0,
  "metadata": {
    "colab": {
      "provenance": [],
      "authorship_tag": "ABX9TyN72stnS8bEYfSI+5odgp6F",
      "include_colab_link": true
    },
    "kernelspec": {
      "name": "python3",
      "display_name": "Python 3"
    },
    "language_info": {
      "name": "python"
    }
  },
  "cells": [
    {
      "cell_type": "markdown",
      "metadata": {
        "id": "view-in-github",
        "colab_type": "text"
      },
      "source": [
        "<a href=\"https://colab.research.google.com/github/ProtoSol/Daily-Data-Science/blob/main/Daily_Data_Science_Day_42_45.ipynb\" target=\"_parent\"><img src=\"https://colab.research.google.com/assets/colab-badge.svg\" alt=\"Open In Colab\"/></a>"
      ]
    },
    {
      "cell_type": "markdown",
      "source": [
        "# Revision of the Numpy Library"
      ],
      "metadata": {
        "id": "n4VH6Cl1zMTH"
      }
    },
    {
      "cell_type": "markdown",
      "source": [
        "The Link to the Numpy -> [Numpy](https://numpy.org/)\n",
        "\n",
        "`What is Numpy?`\n",
        "\n",
        "NumPy (Numerical Python) is a library for the Python programming language that adds support for large, multi-dimensional arrays and matrices, along with a large collection of high-level mathematical functions to operate on these arrays. It is designed to provide efficient numerical computation and is widely used in scientific computing and data analysis"
      ],
      "metadata": {
        "id": "n-8ch4B7zUz3"
      }
    },
    {
      "cell_type": "code",
      "source": [
        "# Installing numpy library\n",
        "# !pip install numpy\n",
        "\n",
        "# Import the Library\n",
        "import numpy as np"
      ],
      "metadata": {
        "id": "SdMJzm1Vzd2S"
      },
      "execution_count": null,
      "outputs": []
    },
    {
      "cell_type": "markdown",
      "source": [
        "## Basic Commands of Numpy"
      ],
      "metadata": {
        "id": "YIwu1L9S0df0"
      }
    },
    {
      "cell_type": "markdown",
      "source": [
        "Simple Array"
      ],
      "metadata": {
        "id": "4U_gOBe80_Ec"
      }
    },
    {
      "cell_type": "code",
      "source": [
        "arr = np.array([1, 2, 3, 4, 5])\n",
        "print(arr)"
      ],
      "metadata": {
        "colab": {
          "base_uri": "https://localhost:8080/"
        },
        "id": "8y3BIL0N08d_",
        "outputId": "113b0d65-a083-46cf-a966-444504f83128"
      },
      "execution_count": null,
      "outputs": [
        {
          "output_type": "stream",
          "name": "stdout",
          "text": [
            "[1 2 3 4 5]\n"
          ]
        }
      ]
    },
    {
      "cell_type": "markdown",
      "source": [
        "Zeros filled Array, Ones filled array"
      ],
      "metadata": {
        "id": "_LyrSJl-0-V7"
      }
    },
    {
      "cell_type": "code",
      "source": [
        "arr = np.zeros(2)\n",
        "arr2 = np.ones(2)\n",
        "print(arr)\n",
        "print(arr2)"
      ],
      "metadata": {
        "colab": {
          "base_uri": "https://localhost:8080/"
        },
        "id": "Z2TAHu3t1J2_",
        "outputId": "e3e2aae1-ccbf-4414-b10a-4bbd1cb21f0d"
      },
      "execution_count": null,
      "outputs": [
        {
          "output_type": "stream",
          "name": "stdout",
          "text": [
            "[0. 0.]\n",
            "[1. 1.]\n"
          ]
        }
      ]
    },
    {
      "cell_type": "markdown",
      "source": [
        "Empty Array"
      ],
      "metadata": {
        "id": "I7bPSOin1OGV"
      }
    },
    {
      "cell_type": "code",
      "source": [
        "np.empty(2)"
      ],
      "metadata": {
        "colab": {
          "base_uri": "https://localhost:8080/"
        },
        "id": "ZZexoAb91Tq8",
        "outputId": "81a2e631-9e1b-471a-fb96-624c23453099"
      },
      "execution_count": null,
      "outputs": [
        {
          "output_type": "execute_result",
          "data": {
            "text/plain": [
              "array([1., 1.])"
            ]
          },
          "metadata": {},
          "execution_count": 5
        }
      ]
    },
    {
      "cell_type": "markdown",
      "source": [
        "Creating array for a range of number n"
      ],
      "metadata": {
        "id": "ukqX8Tb81ZfX"
      }
    },
    {
      "cell_type": "code",
      "source": [
        "np.arange(4)"
      ],
      "metadata": {
        "colab": {
          "base_uri": "https://localhost:8080/"
        },
        "id": "4r1cYnV81gO2",
        "outputId": "7568318e-1a04-42aa-f465-722e59c396ec"
      },
      "execution_count": null,
      "outputs": [
        {
          "output_type": "execute_result",
          "data": {
            "text/plain": [
              "array([0, 1, 2, 3])"
            ]
          },
          "metadata": {},
          "execution_count": 6
        }
      ]
    },
    {
      "cell_type": "markdown",
      "source": [
        "Making two dimensional Array"
      ],
      "metadata": {
        "id": "Q0W3jXKg1gnq"
      }
    },
    {
      "cell_type": "code",
      "source": [
        "a = np.array([1, 2, 3])\n",
        "print(a)\n",
        "a2 = a[np.newaxis, :]\n",
        "print(a2)"
      ],
      "metadata": {
        "colab": {
          "base_uri": "https://localhost:8080/"
        },
        "id": "0FWJbFz514tG",
        "outputId": "7ea0a933-2d56-477f-df2f-87eddeb8f258"
      },
      "execution_count": null,
      "outputs": [
        {
          "output_type": "stream",
          "name": "stdout",
          "text": [
            "[1 2 3]\n",
            "[[1 2 3]]\n"
          ]
        }
      ]
    },
    {
      "cell_type": "markdown",
      "source": [
        "Finding the shape of the Array"
      ],
      "metadata": {
        "id": "njY_sFWf2BQv"
      }
    },
    {
      "cell_type": "code",
      "source": [
        "print(a.shape)\n",
        "print(a2.shape)"
      ],
      "metadata": {
        "colab": {
          "base_uri": "https://localhost:8080/"
        },
        "id": "4IzU-Kcw2GBe",
        "outputId": "ff7d00be-9f8b-431b-8f7a-856033ec5c95"
      },
      "execution_count": null,
      "outputs": [
        {
          "output_type": "stream",
          "name": "stdout",
          "text": [
            "(3,)\n",
            "(1, 3)\n"
          ]
        }
      ]
    },
    {
      "cell_type": "markdown",
      "source": [
        "Make an array and fill the array with one value."
      ],
      "metadata": {
        "id": "7ZYfUanh32iW"
      }
    },
    {
      "cell_type": "code",
      "source": [
        "a = np.full((2, 2), 7)\n",
        "print(a)"
      ],
      "metadata": {
        "colab": {
          "base_uri": "https://localhost:8080/"
        },
        "id": "fdmhEYYQ31_-",
        "outputId": "f61515d6-99d8-4765-e77c-a14d48c21673"
      },
      "execution_count": null,
      "outputs": [
        {
          "output_type": "stream",
          "name": "stdout",
          "text": [
            "[[7 7]\n",
            " [7 7]]\n"
          ]
        }
      ]
    },
    {
      "cell_type": "markdown",
      "source": [
        "Make Identity Matrix"
      ],
      "metadata": {
        "id": "uRuYPVsT4G1W"
      }
    },
    {
      "cell_type": "code",
      "source": [
        "identity = np.eye(5)\n",
        "print(identity)"
      ],
      "metadata": {
        "colab": {
          "base_uri": "https://localhost:8080/"
        },
        "id": "rzK4hH2t4JW5",
        "outputId": "a3272957-6e4a-44d2-f712-b93bf647f66f"
      },
      "execution_count": null,
      "outputs": [
        {
          "output_type": "stream",
          "name": "stdout",
          "text": [
            "[[1. 0. 0. 0. 0.]\n",
            " [0. 1. 0. 0. 0.]\n",
            " [0. 0. 1. 0. 0.]\n",
            " [0. 0. 0. 1. 0.]\n",
            " [0. 0. 0. 0. 1.]]\n"
          ]
        }
      ]
    },
    {
      "cell_type": "markdown",
      "source": [
        "We can check the datatype of the array"
      ],
      "metadata": {
        "id": "56GHzgr-4OKl"
      }
    },
    {
      "cell_type": "code",
      "source": [
        "a = np.array([1, 2, 3])\n",
        "print(a.dtype) # Type of Data in the Array\n",
        "print(type(a)) # Type of the Data"
      ],
      "metadata": {
        "colab": {
          "base_uri": "https://localhost:8080/"
        },
        "id": "8miBGpmY4SLk",
        "outputId": "549678eb-46f6-4bef-80ed-a815ba0a718c"
      },
      "execution_count": null,
      "outputs": [
        {
          "output_type": "stream",
          "name": "stdout",
          "text": [
            "int64\n",
            "<class 'numpy.ndarray'>\n"
          ]
        }
      ]
    },
    {
      "cell_type": "markdown",
      "source": [
        "To get the Dimension of the Array"
      ],
      "metadata": {
        "id": "C2-CBjXj5AZm"
      }
    },
    {
      "cell_type": "code",
      "source": [
        "a.ndim"
      ],
      "metadata": {
        "colab": {
          "base_uri": "https://localhost:8080/"
        },
        "id": "m4Ahqst04_ru",
        "outputId": "37675f25-d3f0-466d-f4db-c2b6d7b627da"
      },
      "execution_count": null,
      "outputs": [
        {
          "output_type": "execute_result",
          "data": {
            "text/plain": [
              "1"
            ]
          },
          "metadata": {},
          "execution_count": 15
        }
      ]
    },
    {
      "cell_type": "markdown",
      "source": [
        "To find the size of the Array"
      ],
      "metadata": {
        "id": "Tzj0oRMF5JTY"
      }
    },
    {
      "cell_type": "code",
      "source": [
        "a.size"
      ],
      "metadata": {
        "colab": {
          "base_uri": "https://localhost:8080/"
        },
        "id": "kPtwiU6Z5M6t",
        "outputId": "24c38406-4cf2-49f2-9550-85730db1715b"
      },
      "execution_count": null,
      "outputs": [
        {
          "output_type": "execute_result",
          "data": {
            "text/plain": [
              "3"
            ]
          },
          "metadata": {},
          "execution_count": 16
        }
      ]
    },
    {
      "cell_type": "markdown",
      "source": [
        "---"
      ],
      "metadata": {
        "id": "8P-lW0f12Ksk"
      }
    },
    {
      "cell_type": "markdown",
      "source": [
        "\n",
        "In data science, one-dimensional (1D), two-dimensional (2D), and three-dimensional (3D) arrays are used to represent and manipulate various types of data. Each type of array serves a specific purpose depending on the nature of the data and the operations needed to be performed on it.\\\n",
        "`1D Arrays`\\\n",
        "1D arrays are used to represent a single sequence of values, such as:\n",
        "- A list of numbers\n",
        "- A series of dates\n",
        "- A sequence of characters\n",
        "They are commonly used in data science for tasks like:\n",
        "- Data preprocessing\n",
        "- Feature engineering\n",
        "- Statistical analysis\n",
        "- Machine learning model inputs\\\n",
        "`2D Arrays`\\\n",
        "2D arrays, also known as matrices, are used to represent tables or grids of data. They are commonly used in data science for tasks like:\n",
        "- Data visualization\n",
        "- Data manipulation\n",
        "- Matrix operations\n",
        "- Linear algebra\n",
        "- Machine learning model inputs\\\n",
        "`3D Arrays`\\\n",
        "3D arrays are used to represent three-dimensional data structures, such as:\n",
        "- 3D images\n",
        "- 3D models\n",
        "- 3D data in scientific simulations\n",
        "- 3D data in machine learning models\n",
        "They are commonly used in data science for tasks like:\n",
        "- Image processing\n",
        "- Computer vision\n",
        "- Scientific simulations\n",
        "- Machine learning model inputs\n",
        "\n",
        "\n",
        "In summary, the choice of array dimension depends on the nature of the data and the operations needed to be performed on it."
      ],
      "metadata": {
        "id": "uX5ToDqe29Jd"
      }
    },
    {
      "cell_type": "markdown",
      "source": [
        "## Basic Operations"
      ],
      "metadata": {
        "id": "Y7lQYXJK3LwT"
      }
    },
    {
      "cell_type": "markdown",
      "source": [
        "Subtraction of elements"
      ],
      "metadata": {
        "id": "Krt5fbHO5ZPf"
      }
    },
    {
      "cell_type": "code",
      "source": [
        "g = a - 2\n",
        "print(g)"
      ],
      "metadata": {
        "colab": {
          "base_uri": "https://localhost:8080/"
        },
        "id": "ia9RYCEm5T1G",
        "outputId": "e8bb263d-ac5f-4141-fac7-2b8cb9dcd99c"
      },
      "execution_count": null,
      "outputs": [
        {
          "output_type": "stream",
          "name": "stdout",
          "text": [
            "[-1  0  1]\n"
          ]
        }
      ]
    },
    {
      "cell_type": "markdown",
      "source": [
        "Addition of Two Arrays"
      ],
      "metadata": {
        "id": "n-JofBa95X4k"
      }
    },
    {
      "cell_type": "code",
      "source": [
        "a = np.array([1, 2, 3])\n",
        "b = np.array([4, 5, 6])\n",
        "c = a + b\n",
        "print(c)"
      ],
      "metadata": {
        "colab": {
          "base_uri": "https://localhost:8080/"
        },
        "id": "UZnd26YX5kuq",
        "outputId": "83761354-1da2-4c92-e9ba-8c97a7e6379f"
      },
      "execution_count": null,
      "outputs": [
        {
          "output_type": "stream",
          "name": "stdout",
          "text": [
            "[5 7 9]\n"
          ]
        }
      ]
    },
    {
      "cell_type": "code",
      "source": [
        "# Another way\n",
        "a = np.array([1, 2, 3])\n",
        "b = np.array([4, 5, 6])\n",
        "c = np.add(a, b)\n",
        "print(c)"
      ],
      "metadata": {
        "colab": {
          "base_uri": "https://localhost:8080/"
        },
        "id": "ZIh93K_35l52",
        "outputId": "7ebda024-9ce1-46d0-ddd7-f1986ce9a117"
      },
      "execution_count": null,
      "outputs": [
        {
          "output_type": "stream",
          "name": "stdout",
          "text": [
            "[5 7 9]\n"
          ]
        }
      ]
    },
    {
      "cell_type": "markdown",
      "source": [
        "Multiplication of Arrays"
      ],
      "metadata": {
        "id": "0jjVi_G95rBX"
      }
    },
    {
      "cell_type": "code",
      "source": [
        "a = np.array([1, 2, 3])\n",
        "b = np.array([4, 5, 6])\n",
        "c = a * b\n",
        "print(c)"
      ],
      "metadata": {
        "colab": {
          "base_uri": "https://localhost:8080/"
        },
        "id": "ZyL_hpf95uiW",
        "outputId": "f6176065-3a32-4ece-cccf-04635d83f068"
      },
      "execution_count": null,
      "outputs": [
        {
          "output_type": "stream",
          "name": "stdout",
          "text": [
            "[ 4 10 18]\n"
          ]
        }
      ]
    },
    {
      "cell_type": "markdown",
      "source": [
        "Division of Arrays"
      ],
      "metadata": {
        "id": "YWJS0ph45vRs"
      }
    },
    {
      "cell_type": "code",
      "source": [
        "a = np.array([1, 2, 3])\n",
        "b = np.array([4, 5, 6])\n",
        "c = a / b\n",
        "print(c)"
      ],
      "metadata": {
        "colab": {
          "base_uri": "https://localhost:8080/"
        },
        "id": "_KkDDv0r5xkp",
        "outputId": "2bafe127-944e-4dce-d071-6179a2680c2a"
      },
      "execution_count": null,
      "outputs": [
        {
          "output_type": "stream",
          "name": "stdout",
          "text": [
            "[0.25 0.4  0.5 ]\n"
          ]
        }
      ]
    },
    {
      "cell_type": "markdown",
      "source": [
        "------"
      ],
      "metadata": {
        "id": "2GPLekV8UOYo"
      }
    },
    {
      "cell_type": "markdown",
      "source": [
        "# Numpy Revision 2"
      ],
      "metadata": {
        "id": "rImg5SJqVQIY"
      }
    },
    {
      "cell_type": "markdown",
      "source": [
        "## Importing the Library"
      ],
      "metadata": {
        "id": "EAfzWaVnVW8A"
      }
    },
    {
      "cell_type": "code",
      "source": [
        "import numpy as np"
      ],
      "metadata": {
        "id": "7ZgbJd37VamO"
      },
      "execution_count": 1,
      "outputs": []
    },
    {
      "cell_type": "markdown",
      "source": [
        "## Codes"
      ],
      "metadata": {
        "id": "FIrneGd6Vcp1"
      }
    },
    {
      "cell_type": "code",
      "source": [
        "# Empty Array of Numpy\n",
        "empty = np.empty((2, 2))\n",
        "print(empty)"
      ],
      "metadata": {
        "colab": {
          "base_uri": "https://localhost:8080/"
        },
        "id": "qhBncI_TVhYS",
        "outputId": "d715b259-da40-48fc-cfc0-03ae3034cf88"
      },
      "execution_count": 2,
      "outputs": [
        {
          "output_type": "stream",
          "name": "stdout",
          "text": [
            "[[4.74034133e-310 0.00000000e+000]\n",
            " [3.30426893e-033 1.33440016e-317]]\n"
          ]
        }
      ]
    },
    {
      "cell_type": "code",
      "source": [
        "# Numpy array using Arrange function\n",
        "arr = np.arange(10)\n",
        "print(arr)"
      ],
      "metadata": {
        "colab": {
          "base_uri": "https://localhost:8080/"
        },
        "id": "XFnjt8F3VlWJ",
        "outputId": "e75aa275-ff9d-46bd-b982-534cbb444ea0"
      },
      "execution_count": 3,
      "outputs": [
        {
          "output_type": "stream",
          "name": "stdout",
          "text": [
            "[0 1 2 3 4 5 6 7 8 9]\n"
          ]
        }
      ]
    },
    {
      "cell_type": "code",
      "source": [
        "# We can also Step in the Arrange function\n",
        "arr = np.arange(10, 20, 2)\n",
        "arr2 = np.arange(11, 20, 2)\n",
        "print(arr)"
      ],
      "metadata": {
        "colab": {
          "base_uri": "https://localhost:8080/"
        },
        "id": "W0T1MRy5WDID",
        "outputId": "b02530df-0144-4948-8836-42e30ea715ef"
      },
      "execution_count": 7,
      "outputs": [
        {
          "output_type": "stream",
          "name": "stdout",
          "text": [
            "[10 12 14 16 18]\n"
          ]
        }
      ]
    },
    {
      "cell_type": "markdown",
      "source": [
        "Linearly Spaced Array"
      ],
      "metadata": {
        "id": "rb-Tr_PnWP3v"
      }
    },
    {
      "cell_type": "code",
      "source": [
        "lin = np.linspace(1, 10, 5)\n",
        "print(lin)"
      ],
      "metadata": {
        "colab": {
          "base_uri": "https://localhost:8080/"
        },
        "id": "YQDzOzV2W57b",
        "outputId": "50df8513-1e56-46b5-9eb9-26d0a6415b54"
      },
      "execution_count": 8,
      "outputs": [
        {
          "output_type": "stream",
          "name": "stdout",
          "text": [
            "[ 1.    3.25  5.5   7.75 10.  ]\n"
          ]
        }
      ]
    },
    {
      "cell_type": "markdown",
      "source": [
        "We can also define the datatype for the numpy array."
      ],
      "metadata": {
        "id": "F2mCo1aIW7gh"
      }
    },
    {
      "cell_type": "code",
      "source": [
        "lin = np.linspace(1, 10, 5, dtype=float)\n",
        "print(lin)\n",
        "print(lin.dtype)"
      ],
      "metadata": {
        "colab": {
          "base_uri": "https://localhost:8080/"
        },
        "id": "8zdDfC8XZC06",
        "outputId": "76edc77b-332f-45fa-8877-22ce036a3584"
      },
      "execution_count": 11,
      "outputs": [
        {
          "output_type": "stream",
          "name": "stdout",
          "text": [
            "[ 1.    3.25  5.5   7.75 10.  ]\n",
            "float64\n"
          ]
        }
      ]
    },
    {
      "cell_type": "code",
      "source": [
        "# We can also sort the array\n",
        "arr = np.array([5,4,2,3,1])\n",
        "print(np.sort(arr))"
      ],
      "metadata": {
        "colab": {
          "base_uri": "https://localhost:8080/"
        },
        "id": "uqxX2RMUZEsi",
        "outputId": "2b42fef5-fd2c-4b75-fdae-c3ce2fb3e6d7"
      },
      "execution_count": 13,
      "outputs": [
        {
          "output_type": "stream",
          "name": "stdout",
          "text": [
            "[1 2 3 4 5]\n"
          ]
        }
      ]
    },
    {
      "cell_type": "markdown",
      "source": [
        "Concatination of the array"
      ],
      "metadata": {
        "id": "O_-dnNwqZvQh"
      }
    },
    {
      "cell_type": "code",
      "source": [
        "a = np.array([1, 2, 3])\n",
        "b = np.array([4, 5, 6])\n",
        "c = np.concatenate((a, b))\n",
        "print(c)"
      ],
      "metadata": {
        "colab": {
          "base_uri": "https://localhost:8080/"
        },
        "id": "5KIzfO7-Z5nk",
        "outputId": "dcfcac5b-4a92-4130-db1a-5d24b2cef580"
      },
      "execution_count": 14,
      "outputs": [
        {
          "output_type": "stream",
          "name": "stdout",
          "text": [
            "[1 2 3 4 5 6]\n"
          ]
        }
      ]
    },
    {
      "cell_type": "code",
      "source": [
        "# We can also make it inplace\n",
        "a = np.array([1, 2, 3])\n",
        "b = np.array([4, 5, 6])\n",
        "a = np.concatenate((a, b))\n",
        "print(a)"
      ],
      "metadata": {
        "colab": {
          "base_uri": "https://localhost:8080/"
        },
        "id": "p6hQJA8PZ6z9",
        "outputId": "92efb791-d18b-4aa6-e960-f4a523f0ad81"
      },
      "execution_count": 15,
      "outputs": [
        {
          "output_type": "stream",
          "name": "stdout",
          "text": [
            "[1 2 3 4 5 6]\n"
          ]
        }
      ]
    },
    {
      "cell_type": "markdown",
      "source": [
        "## 2D Arrays"
      ],
      "metadata": {
        "id": "nURYpp23Z-0p"
      }
    },
    {
      "cell_type": "code",
      "source": [
        "a = np.array([[1, 2, 3], [4, 5, 6]])\n",
        "print(a)"
      ],
      "metadata": {
        "colab": {
          "base_uri": "https://localhost:8080/"
        },
        "id": "2aUzyl_kaDWi",
        "outputId": "2394d9bb-6be3-415e-99bf-769043b47f19"
      },
      "execution_count": 16,
      "outputs": [
        {
          "output_type": "stream",
          "name": "stdout",
          "text": [
            "[[1 2 3]\n",
            " [4 5 6]]\n"
          ]
        }
      ]
    },
    {
      "cell_type": "code",
      "source": [
        "# Concatination of the 2d Arrays\n",
        "b = np.array([[7, 8, 9], [10, 11, 12]])\n",
        "c = np.concatenate((a, b))\n",
        "print(c)"
      ],
      "metadata": {
        "colab": {
          "base_uri": "https://localhost:8080/"
        },
        "id": "Pv57VSW_aD-8",
        "outputId": "9ae874ef-79ee-448d-980b-54ab3b081305"
      },
      "execution_count": 20,
      "outputs": [
        {
          "output_type": "stream",
          "name": "stdout",
          "text": [
            "[[ 1  2  3]\n",
            " [ 4  5  6]\n",
            " [ 7  8  9]\n",
            " [10 11 12]]\n"
          ]
        }
      ]
    },
    {
      "cell_type": "code",
      "source": [
        "# Concatinate using Different axis\n",
        "c = np.concatenate((a, b), axis=1)\n",
        "print(c)\n",
        "\n",
        "# Now for axis = 0\n",
        "c = np.concatenate((a, b), axis=0)\n",
        "print(c)\n",
        "print(c.shape)"
      ],
      "metadata": {
        "colab": {
          "base_uri": "https://localhost:8080/"
        },
        "id": "-XE4P8GwaLR1",
        "outputId": "bfb1068d-85df-4ab7-b505-1328759326e2"
      },
      "execution_count": 22,
      "outputs": [
        {
          "output_type": "stream",
          "name": "stdout",
          "text": [
            "[[ 1  2  3  7  8  9]\n",
            " [ 4  5  6 10 11 12]]\n",
            "[[ 1  2  3]\n",
            " [ 4  5  6]\n",
            " [ 7  8  9]\n",
            " [10 11 12]]\n",
            "(4, 3)\n"
          ]
        }
      ]
    },
    {
      "cell_type": "markdown",
      "source": [
        "## 3D Array"
      ],
      "metadata": {
        "id": "MNQo3_q7adpM"
      }
    },
    {
      "cell_type": "code",
      "source": [
        "a = np.array([[[1, 2, 3], [4, 5, 6]], [[7, 8, 9], [10, 11, 12]]])\n",
        "print(a)\n",
        "print('------')\n",
        "print(a.shape)\n",
        "print('------')\n",
        "print(a.ndim)"
      ],
      "metadata": {
        "colab": {
          "base_uri": "https://localhost:8080/"
        },
        "id": "d7zepYNUa_iP",
        "outputId": "e59c6f33-7504-4b8d-f958-77cade9bedad"
      },
      "execution_count": 24,
      "outputs": [
        {
          "output_type": "stream",
          "name": "stdout",
          "text": [
            "[[[ 1  2  3]\n",
            "  [ 4  5  6]]\n",
            "\n",
            " [[ 7  8  9]\n",
            "  [10 11 12]]]\n",
            "------\n",
            "(2, 2, 3)\n",
            "------\n",
            "3\n"
          ]
        }
      ]
    },
    {
      "cell_type": "code",
      "source": [
        "# Reshaping an Array\n",
        "a = np.array([1, 2, 3, 4, 5, 6])\n",
        "b = a.reshape(2, 3)\n",
        "print(b)"
      ],
      "metadata": {
        "colab": {
          "base_uri": "https://localhost:8080/"
        },
        "id": "vpAKDqySbDs9",
        "outputId": "d424ee93-a8dc-4e94-dd9d-0d23a4e35921"
      },
      "execution_count": 25,
      "outputs": [
        {
          "output_type": "stream",
          "name": "stdout",
          "text": [
            "[[1 2 3]\n",
            " [4 5 6]]\n"
          ]
        }
      ]
    },
    {
      "cell_type": "markdown",
      "source": [
        "## Indexing and Slicing"
      ],
      "metadata": {
        "id": "lut7MGXPcJOw"
      }
    },
    {
      "cell_type": "code",
      "source": [
        "# Indexing property of Numpy array\n",
        "a = np.array([1, 2, 3, 4, 5, 6])\n",
        "print(a[2])\n",
        "\n",
        "# Slicing property of Numpy array\n",
        "print(a[1:4])\n",
        "print(a[1:])\n",
        "# Stepping Property\n",
        "print(a[::-1])"
      ],
      "metadata": {
        "colab": {
          "base_uri": "https://localhost:8080/"
        },
        "id": "H_0Ib4Tmcx6D",
        "outputId": "09f7a9dc-c7ff-4272-8fc6-6990da0a61ac"
      },
      "execution_count": 28,
      "outputs": [
        {
          "output_type": "stream",
          "name": "stdout",
          "text": [
            "3\n",
            "[2 3 4]\n",
            "[2 3 4 5 6]\n",
            "[6 5 4 3 2 1]\n"
          ]
        }
      ]
    },
    {
      "cell_type": "code",
      "source": [
        "# Indexing property in 2d Array\n",
        "a = np.array([[1, 2, 3], [4, 5, 6]])\n",
        "print(a[0, 1])\n",
        "\n",
        "# Slicing property in 2d Array\n",
        "print(a[0:2, 1:])"
      ],
      "metadata": {
        "colab": {
          "base_uri": "https://localhost:8080/"
        },
        "id": "Vr3jZSh4c7Y_",
        "outputId": "c8974e46-c632-4b67-dbed-503532646e6a"
      },
      "execution_count": 29,
      "outputs": [
        {
          "output_type": "stream",
          "name": "stdout",
          "text": [
            "2\n",
            "[[2 3]\n",
            " [5 6]]\n"
          ]
        }
      ]
    },
    {
      "cell_type": "markdown",
      "source": [
        "## Filtering Property"
      ],
      "metadata": {
        "id": "zdtP-rTxdKHf"
      }
    },
    {
      "cell_type": "code",
      "source": [
        "a = np.array([1, 2, 3, 4, 5, 6])\n",
        "print(a[a > 3])"
      ],
      "metadata": {
        "colab": {
          "base_uri": "https://localhost:8080/"
        },
        "id": "XFh5TJlvdNAd",
        "outputId": "79c60726-8d4b-49df-cd99-8d17e5908b37"
      },
      "execution_count": 30,
      "outputs": [
        {
          "output_type": "stream",
          "name": "stdout",
          "text": [
            "[4 5 6]\n"
          ]
        }
      ]
    },
    {
      "cell_type": "code",
      "source": [
        "a = np.arange(21)\n",
        "print(a[a % 2 == 0])\n",
        "print(a[a % 2 != 0])"
      ],
      "metadata": {
        "colab": {
          "base_uri": "https://localhost:8080/"
        },
        "id": "tLI7pAHDdOWQ",
        "outputId": "a19a559e-3da1-4c33-992a-36dc81361b4b"
      },
      "execution_count": 33,
      "outputs": [
        {
          "output_type": "stream",
          "name": "stdout",
          "text": [
            "[ 0  2  4  6  8 10 12 14 16 18 20]\n",
            "[ 1  3  5  7  9 11 13 15 17 19]\n"
          ]
        }
      ]
    },
    {
      "cell_type": "code",
      "source": [
        "# Using multiple conditions\n",
        "a = np.array([1, 2, 3, 4, 5, 6])\n",
        "print(a[(a > 2) & (a < 5)])"
      ],
      "metadata": {
        "colab": {
          "base_uri": "https://localhost:8080/"
        },
        "id": "oD6ZqPEidVOE",
        "outputId": "54522b0e-6353-44c8-bef2-f4472a54c6db"
      },
      "execution_count": 34,
      "outputs": [
        {
          "output_type": "stream",
          "name": "stdout",
          "text": [
            "[3 4]\n"
          ]
        }
      ]
    },
    {
      "cell_type": "code",
      "source": [
        "# Conditions using other Condition types\n",
        "a = np.array([1, 2, 3, 4, 5, 6])\n",
        "print(a[np.logical_and(a > 2, a < 5)])"
      ],
      "metadata": {
        "colab": {
          "base_uri": "https://localhost:8080/"
        },
        "id": "4-Bl0_ECddn_",
        "outputId": "af76e83a-8234-4126-a3b3-c5d4e327702a"
      },
      "execution_count": 35,
      "outputs": [
        {
          "output_type": "stream",
          "name": "stdout",
          "text": [
            "[3 4]\n"
          ]
        }
      ]
    },
    {
      "cell_type": "markdown",
      "source": [
        "## Creating Arrays from Data"
      ],
      "metadata": {
        "id": "xPkaPf3Id-bf"
      }
    },
    {
      "cell_type": "code",
      "source": [
        "a = np.array([1, 2, 3, 4, 5, 6])\n",
        "b = a.reshape(2, 3)\n",
        "print(b)"
      ],
      "metadata": {
        "colab": {
          "base_uri": "https://localhost:8080/"
        },
        "id": "pym-aM7XeLi2",
        "outputId": "2bbfe2af-3d9d-4bc7-e4d9-aeb9af4b85d6"
      },
      "execution_count": 36,
      "outputs": [
        {
          "output_type": "stream",
          "name": "stdout",
          "text": [
            "[[1 2 3]\n",
            " [4 5 6]]\n"
          ]
        }
      ]
    },
    {
      "cell_type": "code",
      "source": [
        "a = np.array([1, 2, 3, 4, 5, 6])\n",
        "b = a.reshape(2, 3, order='F')\n",
        "print(b)"
      ],
      "metadata": {
        "colab": {
          "base_uri": "https://localhost:8080/"
        },
        "id": "D3A1x_nhePfm",
        "outputId": "ee19d173-db83-44bd-a312-66cc17abc8b0"
      },
      "execution_count": 37,
      "outputs": [
        {
          "output_type": "stream",
          "name": "stdout",
          "text": [
            "[[1 3 5]\n",
            " [2 4 6]]\n"
          ]
        }
      ]
    },
    {
      "cell_type": "code",
      "source": [
        "a = np.array([1, 2, 3, 4, 5, 6])\n",
        "b = a[a < 4]\n",
        "print(b)"
      ],
      "metadata": {
        "colab": {
          "base_uri": "https://localhost:8080/"
        },
        "id": "WUlhnQDAeQyo",
        "outputId": "986d0d84-1a09-47c4-c96b-a3105736f50e"
      },
      "execution_count": 38,
      "outputs": [
        {
          "output_type": "stream",
          "name": "stdout",
          "text": [
            "[1 2 3]\n"
          ]
        }
      ]
    },
    {
      "cell_type": "markdown",
      "source": [
        "##Hstack and Vstack Function"
      ],
      "metadata": {
        "id": "O7-x-3KneU2k"
      }
    },
    {
      "cell_type": "code",
      "source": [
        "a = np.array([1, 2, 3])\n",
        "b = np.array([4, 5, 6])\n",
        "c = np.vstack((a, b))\n",
        "print(c)"
      ],
      "metadata": {
        "colab": {
          "base_uri": "https://localhost:8080/"
        },
        "id": "Ps9kJ1w4ed5f",
        "outputId": "37718164-4870-4ada-fee4-dd1edff66de2"
      },
      "execution_count": 39,
      "outputs": [
        {
          "output_type": "stream",
          "name": "stdout",
          "text": [
            "[[1 2 3]\n",
            " [4 5 6]]\n"
          ]
        }
      ]
    },
    {
      "cell_type": "code",
      "source": [
        "a = np.array([1, 2, 3])\n",
        "b = np.array([4, 5, 6])\n",
        "c = np.hstack((a, b))\n",
        "print(c)"
      ],
      "metadata": {
        "colab": {
          "base_uri": "https://localhost:8080/"
        },
        "id": "d6XGburBee75",
        "outputId": "7505ccb8-6e7a-4a94-e25a-e9cfffbbe4c6"
      },
      "execution_count": 40,
      "outputs": [
        {
          "output_type": "stream",
          "name": "stdout",
          "text": [
            "[1 2 3 4 5 6]\n"
          ]
        }
      ]
    },
    {
      "cell_type": "markdown",
      "source": [
        "## Creating Matrices"
      ],
      "metadata": {
        "id": "OGNLWYSDegcO"
      }
    },
    {
      "cell_type": "code",
      "source": [
        "a = np.array([[1, 2, 3], [4, 5, 6]])\n",
        "print(a)"
      ],
      "metadata": {
        "colab": {
          "base_uri": "https://localhost:8080/"
        },
        "id": "fCB_3o5ye_xY",
        "outputId": "d62e3ab1-7bf5-4953-8a64-1a87a1ba2b79"
      },
      "execution_count": 41,
      "outputs": [
        {
          "output_type": "stream",
          "name": "stdout",
          "text": [
            "[[1 2 3]\n",
            " [4 5 6]]\n"
          ]
        }
      ]
    },
    {
      "cell_type": "code",
      "source": [
        "b = np.matrix([[1, 2, 3], [4, 5, 6]])\n",
        "print(b)\n",
        "print(b.dtype)"
      ],
      "metadata": {
        "colab": {
          "base_uri": "https://localhost:8080/"
        },
        "id": "LEyxlVCufEhI",
        "outputId": "1145b39f-18c4-4e86-de9e-e53b286828a6"
      },
      "execution_count": 44,
      "outputs": [
        {
          "output_type": "stream",
          "name": "stdout",
          "text": [
            "[[1 2 3]\n",
            " [4 5 6]]\n",
            "int64\n"
          ]
        }
      ]
    },
    {
      "cell_type": "code",
      "source": [
        "a = np.arange(0,1000,5).reshape(10, 20)\n",
        "print(a)"
      ],
      "metadata": {
        "colab": {
          "base_uri": "https://localhost:8080/"
        },
        "id": "Joe7Tg59gAXF",
        "outputId": "7189af23-c3c4-492f-8523-5441b878e33c"
      },
      "execution_count": 65,
      "outputs": [
        {
          "output_type": "stream",
          "name": "stdout",
          "text": [
            "[[  0   5  10  15  20  25  30  35  40  45  50  55  60  65  70  75  80  85\n",
            "   90  95]\n",
            " [100 105 110 115 120 125 130 135 140 145 150 155 160 165 170 175 180 185\n",
            "  190 195]\n",
            " [200 205 210 215 220 225 230 235 240 245 250 255 260 265 270 275 280 285\n",
            "  290 295]\n",
            " [300 305 310 315 320 325 330 335 340 345 350 355 360 365 370 375 380 385\n",
            "  390 395]\n",
            " [400 405 410 415 420 425 430 435 440 445 450 455 460 465 470 475 480 485\n",
            "  490 495]\n",
            " [500 505 510 515 520 525 530 535 540 545 550 555 560 565 570 575 580 585\n",
            "  590 595]\n",
            " [600 605 610 615 620 625 630 635 640 645 650 655 660 665 670 675 680 685\n",
            "  690 695]\n",
            " [700 705 710 715 720 725 730 735 740 745 750 755 760 765 770 775 780 785\n",
            "  790 795]\n",
            " [800 805 810 815 820 825 830 835 840 845 850 855 860 865 870 875 880 885\n",
            "  890 895]\n",
            " [900 905 910 915 920 925 930 935 940 945 950 955 960 965 970 975 980 985\n",
            "  990 995]]\n"
          ]
        }
      ]
    },
    {
      "cell_type": "markdown",
      "source": [
        "## Aggregate Functions"
      ],
      "metadata": {
        "id": "_3w2WuuAgLnz"
      }
    },
    {
      "cell_type": "code",
      "source": [
        "a.sum()"
      ],
      "metadata": {
        "colab": {
          "base_uri": "https://localhost:8080/"
        },
        "id": "-BSEGbhBg5Yt",
        "outputId": "dfc0bbac-83e5-4ee9-9e42-0f08174d3684"
      },
      "execution_count": 66,
      "outputs": [
        {
          "output_type": "execute_result",
          "data": {
            "text/plain": [
              "99500"
            ]
          },
          "metadata": {},
          "execution_count": 66
        }
      ]
    },
    {
      "cell_type": "code",
      "source": [
        "a.max()"
      ],
      "metadata": {
        "colab": {
          "base_uri": "https://localhost:8080/"
        },
        "id": "cXqPSQifg7E3",
        "outputId": "506844a0-67c6-4b1e-cd53-cace27f58240"
      },
      "execution_count": 67,
      "outputs": [
        {
          "output_type": "execute_result",
          "data": {
            "text/plain": [
              "995"
            ]
          },
          "metadata": {},
          "execution_count": 67
        }
      ]
    },
    {
      "cell_type": "code",
      "source": [
        "a.mean()"
      ],
      "metadata": {
        "colab": {
          "base_uri": "https://localhost:8080/"
        },
        "id": "9CU72C_Ag-uH",
        "outputId": "6b144d20-3afa-4e4c-90d9-7209a29aba14"
      },
      "execution_count": 68,
      "outputs": [
        {
          "output_type": "execute_result",
          "data": {
            "text/plain": [
              "497.5"
            ]
          },
          "metadata": {},
          "execution_count": 68
        }
      ]
    },
    {
      "cell_type": "code",
      "source": [
        "a.std()"
      ],
      "metadata": {
        "colab": {
          "base_uri": "https://localhost:8080/"
        },
        "id": "lZXPxEaHg_j-",
        "outputId": "6dd7135c-57d4-4952-f56d-33f88f0d0d38"
      },
      "execution_count": 69,
      "outputs": [
        {
          "output_type": "execute_result",
          "data": {
            "text/plain": [
              "288.6715261330774"
            ]
          },
          "metadata": {},
          "execution_count": 69
        }
      ]
    },
    {
      "cell_type": "code",
      "source": [
        "a.var()"
      ],
      "metadata": {
        "colab": {
          "base_uri": "https://localhost:8080/"
        },
        "id": "Shvpz-uohAwq",
        "outputId": "962edb89-5d40-4505-8c7b-9870ad31b617"
      },
      "execution_count": 70,
      "outputs": [
        {
          "output_type": "execute_result",
          "data": {
            "text/plain": [
              "83331.25"
            ]
          },
          "metadata": {},
          "execution_count": 70
        }
      ]
    },
    {
      "cell_type": "code",
      "source": [
        "a.min()"
      ],
      "metadata": {
        "colab": {
          "base_uri": "https://localhost:8080/"
        },
        "id": "Ak3jQgFBhCJZ",
        "outputId": "de8aed75-257d-47df-dcc9-ff1a4b548710"
      },
      "execution_count": 71,
      "outputs": [
        {
          "output_type": "execute_result",
          "data": {
            "text/plain": [
              "0"
            ]
          },
          "metadata": {},
          "execution_count": 71
        }
      ]
    },
    {
      "cell_type": "code",
      "source": [
        "a.argmin()"
      ],
      "metadata": {
        "colab": {
          "base_uri": "https://localhost:8080/"
        },
        "id": "kGbxVh4uhDTM",
        "outputId": "8e1e27ca-c8cd-4ae1-8936-bde80eb6501e"
      },
      "execution_count": 72,
      "outputs": [
        {
          "output_type": "execute_result",
          "data": {
            "text/plain": [
              "0"
            ]
          },
          "metadata": {},
          "execution_count": 72
        }
      ]
    },
    {
      "cell_type": "code",
      "source": [
        "a.max(axis=1)"
      ],
      "metadata": {
        "colab": {
          "base_uri": "https://localhost:8080/"
        },
        "id": "ZYFb_xPehIQ8",
        "outputId": "ee6f077a-43fa-4504-9f14-19d43037c50e"
      },
      "execution_count": 73,
      "outputs": [
        {
          "output_type": "execute_result",
          "data": {
            "text/plain": [
              "array([ 95, 195, 295, 395, 495, 595, 695, 795, 895, 995])"
            ]
          },
          "metadata": {},
          "execution_count": 73
        }
      ]
    },
    {
      "cell_type": "code",
      "source": [
        "np.array([[1,2,3],[4,5,6]]) + np.array([[1,2,3],[4,5,6]])"
      ],
      "metadata": {
        "id": "oz66Pf_7hQKg",
        "colab": {
          "base_uri": "https://localhost:8080/"
        },
        "outputId": "fc6d84c0-d3bb-4dc5-d41e-65741e513741"
      },
      "execution_count": 75,
      "outputs": [
        {
          "output_type": "execute_result",
          "data": {
            "text/plain": [
              "array([[ 2,  4,  6],\n",
              "       [ 8, 10, 12]])"
            ]
          },
          "metadata": {},
          "execution_count": 75
        }
      ]
    }
  ]
}