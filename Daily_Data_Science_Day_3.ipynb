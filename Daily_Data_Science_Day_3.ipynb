{
  "nbformat": 4,
  "nbformat_minor": 0,
  "metadata": {
    "colab": {
      "provenance": [],
      "authorship_tag": "ABX9TyOi+6UQZESxFJYHBE1HOGgC",
      "include_colab_link": true
    },
    "kernelspec": {
      "name": "python3",
      "display_name": "Python 3"
    },
    "language_info": {
      "name": "python"
    }
  },
  "cells": [
    {
      "cell_type": "markdown",
      "metadata": {
        "id": "view-in-github",
        "colab_type": "text"
      },
      "source": [
        "<a href=\"https://colab.research.google.com/github/ProtoSol/Daily-Data-Science/blob/main/Daily_Data_Science_Day_3.ipynb\" target=\"_parent\"><img src=\"https://colab.research.google.com/assets/colab-badge.svg\" alt=\"Open In Colab\"/></a>"
      ]
    },
    {
      "cell_type": "markdown",
      "source": [
        "# Pandas Introduction"
      ],
      "metadata": {
        "id": "7LPlpe-Rr0up"
      }
    },
    {
      "cell_type": "code",
      "source": [
        "import pandas as pd\n",
        "import numpy as np"
      ],
      "metadata": {
        "id": "GeLt_JomsWaV"
      },
      "execution_count": 1,
      "outputs": []
    },
    {
      "cell_type": "code",
      "source": [
        "# In millions\n",
        "g7_pop = pd.Series([35.467, 63.951, 80.940, 60.665, 127.061, 64.511, 318.523])"
      ],
      "metadata": {
        "id": "7cAAxA1U1h0p"
      },
      "execution_count": 2,
      "outputs": []
    },
    {
      "cell_type": "code",
      "source": [
        "g7_pop"
      ],
      "metadata": {
        "colab": {
          "base_uri": "https://localhost:8080/"
        },
        "id": "MJ9hor0J1joo",
        "outputId": "b340259f-91bc-4971-d0aa-6b2d531a2b9b"
      },
      "execution_count": 3,
      "outputs": [
        {
          "output_type": "execute_result",
          "data": {
            "text/plain": [
              "0     35.467\n",
              "1     63.951\n",
              "2     80.940\n",
              "3     60.665\n",
              "4    127.061\n",
              "5     64.511\n",
              "6    318.523\n",
              "dtype: float64"
            ]
          },
          "metadata": {},
          "execution_count": 3
        }
      ]
    },
    {
      "cell_type": "markdown",
      "source": [
        "Someone might not know we're representing population in millions of inhabitants. Series can have a `name`, to better document the purpose of the Series:"
      ],
      "metadata": {
        "id": "v7SGex2E12ul"
      }
    },
    {
      "cell_type": "code",
      "source": [
        "g7_pop.name = 'G7 Population in millions'"
      ],
      "metadata": {
        "id": "bKHZspy_1lbt"
      },
      "execution_count": 4,
      "outputs": []
    },
    {
      "cell_type": "code",
      "source": [
        "g7_pop"
      ],
      "metadata": {
        "colab": {
          "base_uri": "https://localhost:8080/"
        },
        "id": "J8eI8Et61qAP",
        "outputId": "5c45b708-11a5-4d02-8039-ccfc6fda46a6"
      },
      "execution_count": 5,
      "outputs": [
        {
          "output_type": "execute_result",
          "data": {
            "text/plain": [
              "0     35.467\n",
              "1     63.951\n",
              "2     80.940\n",
              "3     60.665\n",
              "4    127.061\n",
              "5     64.511\n",
              "6    318.523\n",
              "Name: G7 Population in millions, dtype: float64"
            ]
          },
          "metadata": {},
          "execution_count": 5
        }
      ]
    },
    {
      "cell_type": "code",
      "source": [
        "g7_pop.dtype"
      ],
      "metadata": {
        "colab": {
          "base_uri": "https://localhost:8080/"
        },
        "id": "DaQaoRCY1rai",
        "outputId": "135af423-7b81-4fac-e24b-bf441dfe44a4"
      },
      "execution_count": 6,
      "outputs": [
        {
          "output_type": "execute_result",
          "data": {
            "text/plain": [
              "dtype('float64')"
            ]
          },
          "metadata": {},
          "execution_count": 6
        }
      ]
    },
    {
      "cell_type": "code",
      "source": [
        "g7_pop.values"
      ],
      "metadata": {
        "colab": {
          "base_uri": "https://localhost:8080/"
        },
        "id": "61qLrN1F1sva",
        "outputId": "4a788351-7912-49be-9a21-c21cd6afb71e"
      },
      "execution_count": 7,
      "outputs": [
        {
          "output_type": "execute_result",
          "data": {
            "text/plain": [
              "array([ 35.467,  63.951,  80.94 ,  60.665, 127.061,  64.511, 318.523])"
            ]
          },
          "metadata": {},
          "execution_count": 7
        }
      ]
    },
    {
      "cell_type": "markdown",
      "source": [
        "They're actually backed by numpy arrays:"
      ],
      "metadata": {
        "id": "S5mnXpnt1uNG"
      }
    },
    {
      "cell_type": "code",
      "source": [
        "type(g7_pop.values)"
      ],
      "metadata": {
        "colab": {
          "base_uri": "https://localhost:8080/"
        },
        "id": "v_2caJ_R1xfY",
        "outputId": "8db8a725-2bdf-44fa-e7fa-02bff61f1b17"
      },
      "execution_count": 8,
      "outputs": [
        {
          "output_type": "execute_result",
          "data": {
            "text/plain": [
              "numpy.ndarray"
            ]
          },
          "metadata": {},
          "execution_count": 8
        }
      ]
    },
    {
      "cell_type": "markdown",
      "source": [
        "And they _look_ like simple Python lists or Numpy Arrays. But they're actually more similar to Python `dict`s.\n",
        "\n",
        "A Series has an `index`, that's similar to the automatic index assigned to Python's lists:"
      ],
      "metadata": {
        "id": "wiksT3Jj10QA"
      }
    },
    {
      "cell_type": "code",
      "source": [
        "g7_pop"
      ],
      "metadata": {
        "colab": {
          "base_uri": "https://localhost:8080/"
        },
        "id": "rg9ynzK32-BV",
        "outputId": "c061beb8-0ebd-4206-f8d4-49886de6b222"
      },
      "execution_count": 9,
      "outputs": [
        {
          "output_type": "execute_result",
          "data": {
            "text/plain": [
              "0     35.467\n",
              "1     63.951\n",
              "2     80.940\n",
              "3     60.665\n",
              "4    127.061\n",
              "5     64.511\n",
              "6    318.523\n",
              "Name: G7 Population in millions, dtype: float64"
            ]
          },
          "metadata": {},
          "execution_count": 9
        }
      ]
    },
    {
      "cell_type": "code",
      "source": [
        "g7_pop[0]"
      ],
      "metadata": {
        "colab": {
          "base_uri": "https://localhost:8080/"
        },
        "id": "xZUwbgVb3AUf",
        "outputId": "b158ccb9-79d6-4591-8b01-0ebabbba9102"
      },
      "execution_count": 10,
      "outputs": [
        {
          "output_type": "execute_result",
          "data": {
            "text/plain": [
              "35.467"
            ]
          },
          "metadata": {},
          "execution_count": 10
        }
      ]
    },
    {
      "cell_type": "code",
      "source": [
        "g7_pop.index"
      ],
      "metadata": {
        "colab": {
          "base_uri": "https://localhost:8080/"
        },
        "id": "Apl2iYkN3B1i",
        "outputId": "4483b11c-47c9-4727-87be-0b23593ee814"
      },
      "execution_count": 11,
      "outputs": [
        {
          "output_type": "execute_result",
          "data": {
            "text/plain": [
              "RangeIndex(start=0, stop=7, step=1)"
            ]
          },
          "metadata": {},
          "execution_count": 11
        }
      ]
    },
    {
      "cell_type": "code",
      "source": [
        "l = ['a', 'b', 'c']"
      ],
      "metadata": {
        "id": "lhth3eG-3DR6"
      },
      "execution_count": 12,
      "outputs": []
    },
    {
      "cell_type": "code",
      "source": [
        "g7_pop.index = [\n",
        "    'Canada',\n",
        "    'France',\n",
        "    'Germany',\n",
        "    'Italy',\n",
        "    'Japan',\n",
        "    'United Kingdom',\n",
        "    'United States',\n",
        "]"
      ],
      "metadata": {
        "id": "ihRq7KJc3F_U"
      },
      "execution_count": 13,
      "outputs": []
    },
    {
      "cell_type": "markdown",
      "source": [
        "We can say that Series look like \"ordered dictionaries\". We can actually create Series out of dictionaries:"
      ],
      "metadata": {
        "id": "UC39yF3l3HHj"
      }
    },
    {
      "cell_type": "code",
      "source": [
        "pd.Series({\n",
        "    'Canada': 35.467,\n",
        "    'France': 63.951,\n",
        "    'Germany': 80.94,\n",
        "    'Italy': 60.665,\n",
        "    'Japan': 127.061,\n",
        "    'United Kingdom': 64.511,\n",
        "    'United States': 318.523\n",
        "}, name='G7 Population in millions')"
      ],
      "metadata": {
        "colab": {
          "base_uri": "https://localhost:8080/"
        },
        "id": "qu5T3f-c3Ls4",
        "outputId": "836816c5-403c-43e9-d128-26dfdb0c20a5"
      },
      "execution_count": 14,
      "outputs": [
        {
          "output_type": "execute_result",
          "data": {
            "text/plain": [
              "Canada             35.467\n",
              "France             63.951\n",
              "Germany            80.940\n",
              "Italy              60.665\n",
              "Japan             127.061\n",
              "United Kingdom     64.511\n",
              "United States     318.523\n",
              "Name: G7 Population in millions, dtype: float64"
            ]
          },
          "metadata": {},
          "execution_count": 14
        }
      ]
    },
    {
      "cell_type": "code",
      "source": [
        "pd.Series(\n",
        "    [35.467, 63.951, 80.94, 60.665, 127.061, 64.511, 318.523],\n",
        "    index=['Canada', 'France', 'Germany', 'Italy', 'Japan', 'United Kingdom',\n",
        "       'United States'],\n",
        "    name='G7 Population in millions')"
      ],
      "metadata": {
        "colab": {
          "base_uri": "https://localhost:8080/"
        },
        "id": "F5kBytr43Ner",
        "outputId": "72c61457-3de4-41c2-d244-223abd615550"
      },
      "execution_count": 15,
      "outputs": [
        {
          "output_type": "execute_result",
          "data": {
            "text/plain": [
              "Canada             35.467\n",
              "France             63.951\n",
              "Germany            80.940\n",
              "Italy              60.665\n",
              "Japan             127.061\n",
              "United Kingdom     64.511\n",
              "United States     318.523\n",
              "Name: G7 Population in millions, dtype: float64"
            ]
          },
          "metadata": {},
          "execution_count": 15
        }
      ]
    },
    {
      "cell_type": "code",
      "source": [
        "pd.Series(g7_pop, index=['France', 'Germany', 'Italy', 'Spain'])"
      ],
      "metadata": {
        "colab": {
          "base_uri": "https://localhost:8080/"
        },
        "id": "6Jz4WrgM3Otp",
        "outputId": "a55966ad-156e-4d13-805e-936c50347909"
      },
      "execution_count": 16,
      "outputs": [
        {
          "output_type": "execute_result",
          "data": {
            "text/plain": [
              "France     63.951\n",
              "Germany    80.940\n",
              "Italy      60.665\n",
              "Spain         NaN\n",
              "Name: G7 Population in millions, dtype: float64"
            ]
          },
          "metadata": {},
          "execution_count": 16
        }
      ]
    },
    {
      "cell_type": "markdown",
      "source": [
        "The indexing works the same as the dataframe."
      ],
      "metadata": {
        "id": "BSPcQXHS3QOh"
      }
    },
    {
      "cell_type": "code",
      "source": [
        "g7_pop[(g7_pop > g7_pop.mean() - g7_pop.std() / 2) | (g7_pop > g7_pop.mean() + g7_pop.std() / 2)]"
      ],
      "metadata": {
        "colab": {
          "base_uri": "https://localhost:8080/"
        },
        "id": "mTEE5elV3Uio",
        "outputId": "6d17e335-7f9c-4dab-e6f2-c8a3f59ebe71"
      },
      "execution_count": 17,
      "outputs": [
        {
          "output_type": "execute_result",
          "data": {
            "text/plain": [
              "France             63.951\n",
              "Germany            80.940\n",
              "Italy              60.665\n",
              "Japan             127.061\n",
              "United Kingdom     64.511\n",
              "United States     318.523\n",
              "Name: G7 Population in millions, dtype: float64"
            ]
          },
          "metadata": {},
          "execution_count": 17
        }
      ]
    },
    {
      "cell_type": "markdown",
      "source": [
        "This works on the basis of Boolean Logic that helps us to quickly filter the required data only."
      ],
      "metadata": {
        "id": "xhiAoS0y3adn"
      }
    },
    {
      "cell_type": "code",
      "source": [],
      "metadata": {
        "id": "QBql5gfZ3mrS"
      },
      "execution_count": null,
      "outputs": []
    }
  ]
}