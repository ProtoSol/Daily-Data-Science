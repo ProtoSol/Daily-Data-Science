{
  "nbformat": 4,
  "nbformat_minor": 0,
  "metadata": {
    "colab": {
      "provenance": [],
      "authorship_tag": "ABX9TyPg98PJ5BVTSo25eKYbQN1g",
      "include_colab_link": true
    },
    "kernelspec": {
      "name": "python3",
      "display_name": "Python 3"
    },
    "language_info": {
      "name": "python"
    }
  },
  "cells": [
    {
      "cell_type": "markdown",
      "metadata": {
        "id": "view-in-github",
        "colab_type": "text"
      },
      "source": [
        "<a href=\"https://colab.research.google.com/github/ProtoSol/Daily-Data-Science/blob/main/Daily_Data_Science_Day_2.ipynb\" target=\"_parent\"><img src=\"https://colab.research.google.com/assets/colab-badge.svg\" alt=\"Open In Colab\"/></a>"
      ]
    },
    {
      "cell_type": "markdown",
      "source": [
        "# Markdown Language For Jupyter Notebook"
      ],
      "metadata": {
        "id": "Q7X8NQaNo-iV"
      }
    },
    {
      "cell_type": "markdown",
      "source": [
        "This is employed as a means of crafting accurate code descriptions alongside code snippets, facilitating better understanding and readability for individuals without delving into technical details."
      ],
      "metadata": {
        "id": "p-gy5KJhp4tt"
      }
    },
    {
      "cell_type": "markdown",
      "source": [
        "The file extension for mark down file is \".md\""
      ],
      "metadata": {
        "id": "x-waMCPmqrlX"
      }
    },
    {
      "cell_type": "markdown",
      "source": [
        "Everything is written in a .md file that will be here in google drive link."
      ],
      "metadata": {
        "id": "zY0GKwSfrh9n"
      }
    },
    {
      "cell_type": "markdown",
      "source": [
        "https://drive.google.com/file/d/1f7cEryo4VbJNhwfHqrU-z4uUb4hDth28/view?usp=drive_link"
      ],
      "metadata": {
        "id": "1NfHc-tv_IuE"
      }
    }
  ]
}