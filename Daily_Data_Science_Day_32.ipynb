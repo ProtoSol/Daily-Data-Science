{
  "nbformat": 4,
  "nbformat_minor": 0,
  "metadata": {
    "colab": {
      "provenance": [],
      "authorship_tag": "ABX9TyOP/5L/axzD9zfkWrW+qYIs",
      "include_colab_link": true
    },
    "kernelspec": {
      "name": "python3",
      "display_name": "Python 3"
    },
    "language_info": {
      "name": "python"
    }
  },
  "cells": [
    {
      "cell_type": "markdown",
      "metadata": {
        "id": "view-in-github",
        "colab_type": "text"
      },
      "source": [
        "<a href=\"https://colab.research.google.com/github/ProtoSol/Daily-Data-Science/blob/main/Daily_Data_Science_Day_32.ipynb\" target=\"_parent\"><img src=\"https://colab.research.google.com/assets/colab-badge.svg\" alt=\"Open In Colab\"/></a>"
      ]
    },
    {
      "cell_type": "markdown",
      "source": [
        "# EDA ON Apple Story EDA"
      ],
      "metadata": {
        "id": "r-uB1V0QZmzd"
      }
    },
    {
      "cell_type": "markdown",
      "source": [
        "This was done on the Kaggle Platform for the First Time and The code will be present on the link [EDAAppleData](https://www.kaggle.com/code/protosol/edaappledata)"
      ],
      "metadata": {
        "id": "mlqsbemYZwwz"
      }
    },
    {
      "cell_type": "markdown",
      "source": [
        "Author -> Pranshu Saini\\\n",
        "Contact -> ps1442003@outlook.com"
      ],
      "metadata": {
        "id": "gik8FTH0z7a1"
      }
    }
  ]
}