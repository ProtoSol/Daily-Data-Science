{
  "cells": [
    {
      "cell_type": "markdown",
      "metadata": {
        "id": "view-in-github",
        "colab_type": "text"
      },
      "source": [
        "<a href=\"https://colab.research.google.com/github/ProtoSol/Daily-Data-Science/blob/main/Daily_Data_Science_Day_4.ipynb\" target=\"_parent\"><img src=\"https://colab.research.google.com/assets/colab-badge.svg\" alt=\"Open In Colab\"/></a>"
      ]
    },
    {
      "cell_type": "markdown",
      "id": "40d4a659-e66b-4739-8de1-caed36ebe979",
      "metadata": {
        "id": "40d4a659-e66b-4739-8de1-caed36ebe979"
      },
      "source": [
        "# Pandas Basics Part 1"
      ]
    },
    {
      "cell_type": "markdown",
      "id": "19320d19-04dc-46d4-a4a7-59db97b4558b",
      "metadata": {
        "id": "19320d19-04dc-46d4-a4a7-59db97b4558b"
      },
      "source": [
        "## How to Import dataset in Python using Pandas Library\n",
        "Written By:- Pranshu Saini\\\n",
        "Date:- 27.1.2024\\\n",
        "Email:- ps1442003@outlook.com"
      ]
    },
    {
      "cell_type": "code",
      "execution_count": null,
      "id": "9d1b5253-b628-44de-a60d-a2554f8e1bf7",
      "metadata": {
        "id": "9d1b5253-b628-44de-a60d-a2554f8e1bf7"
      },
      "outputs": [],
      "source": [
        "# Step 1\n",
        "# Importing the\n",
        "import pandas as pd"
      ]
    },
    {
      "cell_type": "code",
      "execution_count": null,
      "id": "070fbd1f-2eb0-41b5-834b-ddad6bd1167d",
      "metadata": {
        "id": "070fbd1f-2eb0-41b5-834b-ddad6bd1167d",
        "outputId": "6cfd110e-85e9-4d24-b2f0-0c7d909db47c"
      },
      "outputs": [
        {
          "data": {
            "text/html": [
              "<div>\n",
              "<style scoped>\n",
              "    .dataframe tbody tr th:only-of-type {\n",
              "        vertical-align: middle;\n",
              "    }\n",
              "\n",
              "    .dataframe tbody tr th {\n",
              "        vertical-align: top;\n",
              "    }\n",
              "\n",
              "    .dataframe thead th {\n",
              "        text-align: right;\n",
              "    }\n",
              "</style>\n",
              "<table border=\"1\" class=\"dataframe\">\n",
              "  <thead>\n",
              "    <tr style=\"text-align: right;\">\n",
              "      <th></th>\n",
              "      <th>height</th>\n",
              "      <th>weight</th>\n",
              "      <th>favourite_dish</th>\n",
              "    </tr>\n",
              "  </thead>\n",
              "  <tbody>\n",
              "    <tr>\n",
              "      <th>0</th>\n",
              "      <td>5.8</td>\n",
              "      <td>101</td>\n",
              "      <td>Chicken Pulao</td>\n",
              "    </tr>\n",
              "    <tr>\n",
              "      <th>1</th>\n",
              "      <td>6.2</td>\n",
              "      <td>92</td>\n",
              "      <td>Biryani</td>\n",
              "    </tr>\n",
              "    <tr>\n",
              "      <th>2</th>\n",
              "      <td>5.9</td>\n",
              "      <td>62</td>\n",
              "      <td>Karahi Ghosht</td>\n",
              "    </tr>\n",
              "    <tr>\n",
              "      <th>3</th>\n",
              "      <td>5.9</td>\n",
              "      <td>95</td>\n",
              "      <td>Chicken Pulao</td>\n",
              "    </tr>\n",
              "    <tr>\n",
              "      <th>4</th>\n",
              "      <td>5.9</td>\n",
              "      <td>55</td>\n",
              "      <td>Chicken Pulao</td>\n",
              "    </tr>\n",
              "    <tr>\n",
              "      <th>...</th>\n",
              "      <td>...</td>\n",
              "      <td>...</td>\n",
              "      <td>...</td>\n",
              "    </tr>\n",
              "    <tr>\n",
              "      <th>82</th>\n",
              "      <td>5.4</td>\n",
              "      <td>55</td>\n",
              "      <td>Pasta</td>\n",
              "    </tr>\n",
              "    <tr>\n",
              "      <th>83</th>\n",
              "      <td>5.9</td>\n",
              "      <td>75</td>\n",
              "      <td>Karahi Ghosht</td>\n",
              "    </tr>\n",
              "    <tr>\n",
              "      <th>84</th>\n",
              "      <td>5.4</td>\n",
              "      <td>61</td>\n",
              "      <td>Biryani</td>\n",
              "    </tr>\n",
              "    <tr>\n",
              "      <th>85</th>\n",
              "      <td>6.2</td>\n",
              "      <td>68</td>\n",
              "      <td>Chicken Pulao</td>\n",
              "    </tr>\n",
              "    <tr>\n",
              "      <th>86</th>\n",
              "      <td>5.1</td>\n",
              "      <td>96</td>\n",
              "      <td>Biryani</td>\n",
              "    </tr>\n",
              "  </tbody>\n",
              "</table>\n",
              "<p>87 rows × 3 columns</p>\n",
              "</div>"
            ],
            "text/plain": [
              "    height  weight favourite_dish\n",
              "0      5.8     101  Chicken Pulao\n",
              "1      6.2      92        Biryani\n",
              "2      5.9      62  Karahi Ghosht\n",
              "3      5.9      95  Chicken Pulao\n",
              "4      5.9      55  Chicken Pulao\n",
              "..     ...     ...            ...\n",
              "82     5.4      55          Pasta\n",
              "83     5.9      75  Karahi Ghosht\n",
              "84     5.4      61        Biryani\n",
              "85     6.2      68  Chicken Pulao\n",
              "86     5.1      96        Biryani\n",
              "\n",
              "[87 rows x 3 columns]"
            ]
          },
          "execution_count": 2,
          "metadata": {},
          "output_type": "execute_result"
        }
      ],
      "source": [
        "# Step 2\n",
        "# Reading / Importing the dataset\n",
        "\n",
        "df = pd.read_excel(\"pandas_01_day6.xlsx\") # We use the path of the file with same format as the function we use.\n",
        "df"
      ]
    },
    {
      "cell_type": "code",
      "execution_count": null,
      "id": "a956cce2-6f00-4586-aeff-3906c7ec4aef",
      "metadata": {
        "id": "a956cce2-6f00-4586-aeff-3906c7ec4aef",
        "outputId": "b11d6712-1e68-4dfb-bd0d-a0bee433d47b"
      },
      "outputs": [
        {
          "data": {
            "text/plain": [
              "pandas.core.frame.DataFrame"
            ]
          },
          "execution_count": 16,
          "metadata": {},
          "output_type": "execute_result"
        }
      ],
      "source": [
        "type(df) # the type of df we created"
      ]
    },
    {
      "cell_type": "code",
      "execution_count": null,
      "id": "fd426731-aea3-439d-bce7-a1a6885fef57",
      "metadata": {
        "id": "fd426731-aea3-439d-bce7-a1a6885fef57",
        "outputId": "ed096e2c-19ba-46a7-ea20-2aa2d9f3b7ad"
      },
      "outputs": [
        {
          "data": {
            "text/html": [
              "<div>\n",
              "<style scoped>\n",
              "    .dataframe tbody tr th:only-of-type {\n",
              "        vertical-align: middle;\n",
              "    }\n",
              "\n",
              "    .dataframe tbody tr th {\n",
              "        vertical-align: top;\n",
              "    }\n",
              "\n",
              "    .dataframe thead th {\n",
              "        text-align: right;\n",
              "    }\n",
              "</style>\n",
              "<table border=\"1\" class=\"dataframe\">\n",
              "  <thead>\n",
              "    <tr style=\"text-align: right;\">\n",
              "      <th></th>\n",
              "      <th>height</th>\n",
              "      <th>weight</th>\n",
              "      <th>favourite_dish</th>\n",
              "    </tr>\n",
              "  </thead>\n",
              "  <tbody>\n",
              "    <tr>\n",
              "      <th>0</th>\n",
              "      <td>5.8</td>\n",
              "      <td>101</td>\n",
              "      <td>Chicken Pulao</td>\n",
              "    </tr>\n",
              "    <tr>\n",
              "      <th>1</th>\n",
              "      <td>6.2</td>\n",
              "      <td>92</td>\n",
              "      <td>Biryani</td>\n",
              "    </tr>\n",
              "    <tr>\n",
              "      <th>2</th>\n",
              "      <td>5.9</td>\n",
              "      <td>62</td>\n",
              "      <td>Karahi Ghosht</td>\n",
              "    </tr>\n",
              "    <tr>\n",
              "      <th>3</th>\n",
              "      <td>5.9</td>\n",
              "      <td>95</td>\n",
              "      <td>Chicken Pulao</td>\n",
              "    </tr>\n",
              "    <tr>\n",
              "      <th>4</th>\n",
              "      <td>5.9</td>\n",
              "      <td>55</td>\n",
              "      <td>Chicken Pulao</td>\n",
              "    </tr>\n",
              "  </tbody>\n",
              "</table>\n",
              "</div>"
            ],
            "text/plain": [
              "   height  weight favourite_dish\n",
              "0     5.8     101  Chicken Pulao\n",
              "1     6.2      92        Biryani\n",
              "2     5.9      62  Karahi Ghosht\n",
              "3     5.9      95  Chicken Pulao\n",
              "4     5.9      55  Chicken Pulao"
            ]
          },
          "execution_count": 15,
          "metadata": {},
          "output_type": "execute_result"
        }
      ],
      "source": [
        "df.head() # first 5 rows"
      ]
    },
    {
      "cell_type": "code",
      "execution_count": null,
      "id": "af5b0110-1ae2-4897-9df5-76b0777c9cb1",
      "metadata": {
        "id": "af5b0110-1ae2-4897-9df5-76b0777c9cb1",
        "outputId": "98e20620-0764-48a6-c721-c5d16c012d73"
      },
      "outputs": [
        {
          "data": {
            "text/html": [
              "<div>\n",
              "<style scoped>\n",
              "    .dataframe tbody tr th:only-of-type {\n",
              "        vertical-align: middle;\n",
              "    }\n",
              "\n",
              "    .dataframe tbody tr th {\n",
              "        vertical-align: top;\n",
              "    }\n",
              "\n",
              "    .dataframe thead th {\n",
              "        text-align: right;\n",
              "    }\n",
              "</style>\n",
              "<table border=\"1\" class=\"dataframe\">\n",
              "  <thead>\n",
              "    <tr style=\"text-align: right;\">\n",
              "      <th></th>\n",
              "      <th>height</th>\n",
              "      <th>weight</th>\n",
              "      <th>favourite_dish</th>\n",
              "    </tr>\n",
              "  </thead>\n",
              "  <tbody>\n",
              "    <tr>\n",
              "      <th>82</th>\n",
              "      <td>5.4</td>\n",
              "      <td>55</td>\n",
              "      <td>Pasta</td>\n",
              "    </tr>\n",
              "    <tr>\n",
              "      <th>83</th>\n",
              "      <td>5.9</td>\n",
              "      <td>75</td>\n",
              "      <td>Karahi Ghosht</td>\n",
              "    </tr>\n",
              "    <tr>\n",
              "      <th>84</th>\n",
              "      <td>5.4</td>\n",
              "      <td>61</td>\n",
              "      <td>Biryani</td>\n",
              "    </tr>\n",
              "    <tr>\n",
              "      <th>85</th>\n",
              "      <td>6.2</td>\n",
              "      <td>68</td>\n",
              "      <td>Chicken Pulao</td>\n",
              "    </tr>\n",
              "    <tr>\n",
              "      <th>86</th>\n",
              "      <td>5.1</td>\n",
              "      <td>96</td>\n",
              "      <td>Biryani</td>\n",
              "    </tr>\n",
              "  </tbody>\n",
              "</table>\n",
              "</div>"
            ],
            "text/plain": [
              "    height  weight favourite_dish\n",
              "82     5.4      55          Pasta\n",
              "83     5.9      75  Karahi Ghosht\n",
              "84     5.4      61        Biryani\n",
              "85     6.2      68  Chicken Pulao\n",
              "86     5.1      96        Biryani"
            ]
          },
          "execution_count": 14,
          "metadata": {},
          "output_type": "execute_result"
        }
      ],
      "source": [
        "df.tail() # Last 5 rows"
      ]
    },
    {
      "cell_type": "code",
      "execution_count": null,
      "id": "6eac6826-4548-4726-a50b-37820f8ee70a",
      "metadata": {
        "id": "6eac6826-4548-4726-a50b-37820f8ee70a",
        "outputId": "34d62c11-043a-4981-d8c6-2876ee4d938a"
      },
      "outputs": [
        {
          "data": {
            "text/plain": [
              "(87, 3)"
            ]
          },
          "execution_count": 6,
          "metadata": {},
          "output_type": "execute_result"
        }
      ],
      "source": [
        "df.shape"
      ]
    },
    {
      "cell_type": "code",
      "execution_count": null,
      "id": "70fd7a6e-301b-4b98-a18b-02241fa2750b",
      "metadata": {
        "id": "70fd7a6e-301b-4b98-a18b-02241fa2750b",
        "outputId": "3a9ad5ef-561e-49f0-de94-c7fb2aaf281a"
      },
      "outputs": [
        {
          "data": {
            "text/plain": [
              "height            float64\n",
              "weight              int64\n",
              "favourite_dish     object\n",
              "dtype: object"
            ]
          },
          "execution_count": 13,
          "metadata": {},
          "output_type": "execute_result"
        }
      ],
      "source": [
        "df.dtypes # To find the datatypes"
      ]
    },
    {
      "cell_type": "code",
      "execution_count": null,
      "id": "8e5b612b-7605-4de5-86fa-1fa5969c0b62",
      "metadata": {
        "id": "8e5b612b-7605-4de5-86fa-1fa5969c0b62",
        "outputId": "2af5e0b2-db71-4e4d-ce2b-759b51301301"
      },
      "outputs": [
        {
          "name": "stdout",
          "output_type": "stream",
          "text": [
            "<class 'pandas.core.frame.DataFrame'>\n",
            "RangeIndex: 87 entries, 0 to 86\n",
            "Data columns (total 3 columns):\n",
            " #   Column          Non-Null Count  Dtype  \n",
            "---  ------          --------------  -----  \n",
            " 0   height          87 non-null     float64\n",
            " 1   weight          87 non-null     int64  \n",
            " 2   favourite_dish  87 non-null     object \n",
            "dtypes: float64(1), int64(1), object(1)\n",
            "memory usage: 2.2+ KB\n"
          ]
        }
      ],
      "source": [
        "df.info()"
      ]
    },
    {
      "cell_type": "markdown",
      "id": "700a6bb2-b027-4d99-8241-bd8a4dce8be0",
      "metadata": {
        "id": "700a6bb2-b027-4d99-8241-bd8a4dce8be0"
      },
      "source": [
        ">We will change the **Datatype** from the object to specific types for better performance and storage"
      ]
    },
    {
      "cell_type": "code",
      "execution_count": null,
      "id": "f82886c9-5f8d-4de3-846f-15ca382f8fa0",
      "metadata": {
        "id": "f82886c9-5f8d-4de3-846f-15ca382f8fa0"
      },
      "outputs": [],
      "source": [
        "df[\"height\"] = df[\"height\"].astype(float)"
      ]
    },
    {
      "cell_type": "code",
      "execution_count": null,
      "id": "237c5856-fdbc-44e4-ba1a-ec15494959e1",
      "metadata": {
        "id": "237c5856-fdbc-44e4-ba1a-ec15494959e1"
      },
      "outputs": [],
      "source": [
        "df[\"favourite_dish\"] = df[\"favourite_dish\"].astype(str)"
      ]
    },
    {
      "cell_type": "code",
      "execution_count": null,
      "id": "c42a32d1-67f7-4f38-9baf-7c689345c364",
      "metadata": {
        "id": "c42a32d1-67f7-4f38-9baf-7c689345c364",
        "outputId": "c7243cfb-ee74-4f29-e8b8-454cef381ced"
      },
      "outputs": [
        {
          "name": "stdout",
          "output_type": "stream",
          "text": [
            "<class 'pandas.core.frame.DataFrame'>\n",
            "RangeIndex: 87 entries, 0 to 86\n",
            "Data columns (total 3 columns):\n",
            " #   Column          Non-Null Count  Dtype  \n",
            "---  ------          --------------  -----  \n",
            " 0   height          87 non-null     float64\n",
            " 1   weight          87 non-null     int64  \n",
            " 2   favourite_dish  87 non-null     object \n",
            "dtypes: float64(1), int64(1), object(1)\n",
            "memory usage: 2.2+ KB\n"
          ]
        }
      ],
      "source": [
        "df.info() # Overall Info"
      ]
    },
    {
      "cell_type": "code",
      "execution_count": null,
      "id": "af323865-fd83-4f76-93f5-6a42884ba201",
      "metadata": {
        "id": "af323865-fd83-4f76-93f5-6a42884ba201",
        "outputId": "a586f708-84a4-4a9b-8600-05f5af2af328"
      },
      "outputs": [
        {
          "data": {
            "text/html": [
              "<div>\n",
              "<style scoped>\n",
              "    .dataframe tbody tr th:only-of-type {\n",
              "        vertical-align: middle;\n",
              "    }\n",
              "\n",
              "    .dataframe tbody tr th {\n",
              "        vertical-align: top;\n",
              "    }\n",
              "\n",
              "    .dataframe thead th {\n",
              "        text-align: right;\n",
              "    }\n",
              "</style>\n",
              "<table border=\"1\" class=\"dataframe\">\n",
              "  <thead>\n",
              "    <tr style=\"text-align: right;\">\n",
              "      <th></th>\n",
              "      <th>0</th>\n",
              "      <th>1</th>\n",
              "      <th>2</th>\n",
              "      <th>3</th>\n",
              "      <th>4</th>\n",
              "      <th>5</th>\n",
              "      <th>6</th>\n",
              "      <th>7</th>\n",
              "      <th>8</th>\n",
              "      <th>9</th>\n",
              "      <th>...</th>\n",
              "      <th>77</th>\n",
              "      <th>78</th>\n",
              "      <th>79</th>\n",
              "      <th>80</th>\n",
              "      <th>81</th>\n",
              "      <th>82</th>\n",
              "      <th>83</th>\n",
              "      <th>84</th>\n",
              "      <th>85</th>\n",
              "      <th>86</th>\n",
              "    </tr>\n",
              "  </thead>\n",
              "  <tbody>\n",
              "    <tr>\n",
              "      <th>height</th>\n",
              "      <td>5.8</td>\n",
              "      <td>6.2</td>\n",
              "      <td>5.9</td>\n",
              "      <td>5.9</td>\n",
              "      <td>5.9</td>\n",
              "      <td>5.3</td>\n",
              "      <td>5.6</td>\n",
              "      <td>5.9</td>\n",
              "      <td>5.1</td>\n",
              "      <td>5.4</td>\n",
              "      <td>...</td>\n",
              "      <td>5.5</td>\n",
              "      <td>5.11</td>\n",
              "      <td>5.3</td>\n",
              "      <td>5.4</td>\n",
              "      <td>5.5</td>\n",
              "      <td>5.4</td>\n",
              "      <td>5.9</td>\n",
              "      <td>5.4</td>\n",
              "      <td>6.2</td>\n",
              "      <td>5.1</td>\n",
              "    </tr>\n",
              "    <tr>\n",
              "      <th>weight</th>\n",
              "      <td>101</td>\n",
              "      <td>92</td>\n",
              "      <td>62</td>\n",
              "      <td>95</td>\n",
              "      <td>55</td>\n",
              "      <td>59</td>\n",
              "      <td>50</td>\n",
              "      <td>76</td>\n",
              "      <td>78</td>\n",
              "      <td>68</td>\n",
              "      <td>...</td>\n",
              "      <td>85</td>\n",
              "      <td>72</td>\n",
              "      <td>62</td>\n",
              "      <td>55</td>\n",
              "      <td>52</td>\n",
              "      <td>55</td>\n",
              "      <td>75</td>\n",
              "      <td>61</td>\n",
              "      <td>68</td>\n",
              "      <td>96</td>\n",
              "    </tr>\n",
              "    <tr>\n",
              "      <th>favourite_dish</th>\n",
              "      <td>Chicken Pulao</td>\n",
              "      <td>Biryani</td>\n",
              "      <td>Karahi Ghosht</td>\n",
              "      <td>Chicken Pulao</td>\n",
              "      <td>Chicken Pulao</td>\n",
              "      <td>Biryani</td>\n",
              "      <td>Pasta</td>\n",
              "      <td>Biryani</td>\n",
              "      <td>Biryani</td>\n",
              "      <td>Biryani</td>\n",
              "      <td>...</td>\n",
              "      <td>Biryani</td>\n",
              "      <td>Karahi Ghosht</td>\n",
              "      <td>Biryani</td>\n",
              "      <td>Pasta</td>\n",
              "      <td>Karahi Ghosht</td>\n",
              "      <td>Pasta</td>\n",
              "      <td>Karahi Ghosht</td>\n",
              "      <td>Biryani</td>\n",
              "      <td>Chicken Pulao</td>\n",
              "      <td>Biryani</td>\n",
              "    </tr>\n",
              "  </tbody>\n",
              "</table>\n",
              "<p>3 rows × 87 columns</p>\n",
              "</div>"
            ],
            "text/plain": [
              "                           0        1              2              3   \\\n",
              "height                    5.8      6.2            5.9            5.9   \n",
              "weight                    101       92             62             95   \n",
              "favourite_dish  Chicken Pulao  Biryani  Karahi Ghosht  Chicken Pulao   \n",
              "\n",
              "                           4        5      6        7        8        9   ...  \\\n",
              "height                    5.9      5.3    5.6      5.9      5.1      5.4  ...   \n",
              "weight                     55       59     50       76       78       68  ...   \n",
              "favourite_dish  Chicken Pulao  Biryani  Pasta  Biryani  Biryani  Biryani  ...   \n",
              "\n",
              "                     77             78       79     80             81     82  \\\n",
              "height              5.5           5.11      5.3    5.4            5.5    5.4   \n",
              "weight               85             72       62     55             52     55   \n",
              "favourite_dish  Biryani  Karahi Ghosht  Biryani  Pasta  Karahi Ghosht  Pasta   \n",
              "\n",
              "                           83       84             85       86  \n",
              "height                    5.9      5.4            6.2      5.1  \n",
              "weight                     75       61             68       96  \n",
              "favourite_dish  Karahi Ghosht  Biryani  Chicken Pulao  Biryani  \n",
              "\n",
              "[3 rows x 87 columns]"
            ]
          },
          "execution_count": 17,
          "metadata": {},
          "output_type": "execute_result"
        }
      ],
      "source": [
        "df.T # Transpose"
      ]
    },
    {
      "cell_type": "code",
      "execution_count": null,
      "id": "82c49e03-4112-42c8-ad10-0270f90707ec",
      "metadata": {
        "id": "82c49e03-4112-42c8-ad10-0270f90707ec",
        "outputId": "7ffa0219-a628-4cfe-9a71-4ac55e19920b"
      },
      "outputs": [
        {
          "data": {
            "text/html": [
              "<div>\n",
              "<style scoped>\n",
              "    .dataframe tbody tr th:only-of-type {\n",
              "        vertical-align: middle;\n",
              "    }\n",
              "\n",
              "    .dataframe tbody tr th {\n",
              "        vertical-align: top;\n",
              "    }\n",
              "\n",
              "    .dataframe thead th {\n",
              "        text-align: right;\n",
              "    }\n",
              "</style>\n",
              "<table border=\"1\" class=\"dataframe\">\n",
              "  <thead>\n",
              "    <tr style=\"text-align: right;\">\n",
              "      <th></th>\n",
              "      <th>height</th>\n",
              "      <th>weight</th>\n",
              "      <th>favourite_dish</th>\n",
              "    </tr>\n",
              "  </thead>\n",
              "  <tbody>\n",
              "    <tr>\n",
              "      <th>0</th>\n",
              "      <td>5.8</td>\n",
              "      <td>101</td>\n",
              "      <td>Chicken Pulao</td>\n",
              "    </tr>\n",
              "    <tr>\n",
              "      <th>1</th>\n",
              "      <td>6.2</td>\n",
              "      <td>92</td>\n",
              "      <td>Biryani</td>\n",
              "    </tr>\n",
              "    <tr>\n",
              "      <th>2</th>\n",
              "      <td>5.9</td>\n",
              "      <td>62</td>\n",
              "      <td>Karahi Ghosht</td>\n",
              "    </tr>\n",
              "    <tr>\n",
              "      <th>3</th>\n",
              "      <td>5.9</td>\n",
              "      <td>95</td>\n",
              "      <td>Chicken Pulao</td>\n",
              "    </tr>\n",
              "    <tr>\n",
              "      <th>4</th>\n",
              "      <td>5.9</td>\n",
              "      <td>55</td>\n",
              "      <td>Chicken Pulao</td>\n",
              "    </tr>\n",
              "    <tr>\n",
              "      <th>...</th>\n",
              "      <td>...</td>\n",
              "      <td>...</td>\n",
              "      <td>...</td>\n",
              "    </tr>\n",
              "    <tr>\n",
              "      <th>82</th>\n",
              "      <td>5.4</td>\n",
              "      <td>55</td>\n",
              "      <td>Pasta</td>\n",
              "    </tr>\n",
              "    <tr>\n",
              "      <th>83</th>\n",
              "      <td>5.9</td>\n",
              "      <td>75</td>\n",
              "      <td>Karahi Ghosht</td>\n",
              "    </tr>\n",
              "    <tr>\n",
              "      <th>84</th>\n",
              "      <td>5.4</td>\n",
              "      <td>61</td>\n",
              "      <td>Biryani</td>\n",
              "    </tr>\n",
              "    <tr>\n",
              "      <th>85</th>\n",
              "      <td>6.2</td>\n",
              "      <td>68</td>\n",
              "      <td>Chicken Pulao</td>\n",
              "    </tr>\n",
              "    <tr>\n",
              "      <th>86</th>\n",
              "      <td>5.1</td>\n",
              "      <td>96</td>\n",
              "      <td>Biryani</td>\n",
              "    </tr>\n",
              "  </tbody>\n",
              "</table>\n",
              "<p>87 rows × 3 columns</p>\n",
              "</div>"
            ],
            "text/plain": [
              "    height  weight favourite_dish\n",
              "0      5.8     101  Chicken Pulao\n",
              "1      6.2      92        Biryani\n",
              "2      5.9      62  Karahi Ghosht\n",
              "3      5.9      95  Chicken Pulao\n",
              "4      5.9      55  Chicken Pulao\n",
              "..     ...     ...            ...\n",
              "82     5.4      55          Pasta\n",
              "83     5.9      75  Karahi Ghosht\n",
              "84     5.4      61        Biryani\n",
              "85     6.2      68  Chicken Pulao\n",
              "86     5.1      96        Biryani\n",
              "\n",
              "[87 rows x 3 columns]"
            ]
          },
          "execution_count": 21,
          "metadata": {},
          "output_type": "execute_result"
        }
      ],
      "source": [
        "df.sort_index() # we can sort the dataframe"
      ]
    },
    {
      "cell_type": "code",
      "execution_count": null,
      "id": "ac62cb6c-c885-4d30-9c48-ba6de290ca71",
      "metadata": {
        "id": "ac62cb6c-c885-4d30-9c48-ba6de290ca71",
        "outputId": "644470c7-03ca-486b-8157-26243881cf8b"
      },
      "outputs": [
        {
          "data": {
            "text/html": [
              "<div>\n",
              "<style scoped>\n",
              "    .dataframe tbody tr th:only-of-type {\n",
              "        vertical-align: middle;\n",
              "    }\n",
              "\n",
              "    .dataframe tbody tr th {\n",
              "        vertical-align: top;\n",
              "    }\n",
              "\n",
              "    .dataframe thead th {\n",
              "        text-align: right;\n",
              "    }\n",
              "</style>\n",
              "<table border=\"1\" class=\"dataframe\">\n",
              "  <thead>\n",
              "    <tr style=\"text-align: right;\">\n",
              "      <th></th>\n",
              "      <th>height</th>\n",
              "      <th>weight</th>\n",
              "      <th>favourite_dish</th>\n",
              "    </tr>\n",
              "  </thead>\n",
              "  <tbody>\n",
              "    <tr>\n",
              "      <th>86</th>\n",
              "      <td>5.1</td>\n",
              "      <td>96</td>\n",
              "      <td>Biryani</td>\n",
              "    </tr>\n",
              "    <tr>\n",
              "      <th>85</th>\n",
              "      <td>6.2</td>\n",
              "      <td>68</td>\n",
              "      <td>Chicken Pulao</td>\n",
              "    </tr>\n",
              "    <tr>\n",
              "      <th>84</th>\n",
              "      <td>5.4</td>\n",
              "      <td>61</td>\n",
              "      <td>Biryani</td>\n",
              "    </tr>\n",
              "    <tr>\n",
              "      <th>83</th>\n",
              "      <td>5.9</td>\n",
              "      <td>75</td>\n",
              "      <td>Karahi Ghosht</td>\n",
              "    </tr>\n",
              "    <tr>\n",
              "      <th>82</th>\n",
              "      <td>5.4</td>\n",
              "      <td>55</td>\n",
              "      <td>Pasta</td>\n",
              "    </tr>\n",
              "    <tr>\n",
              "      <th>...</th>\n",
              "      <td>...</td>\n",
              "      <td>...</td>\n",
              "      <td>...</td>\n",
              "    </tr>\n",
              "    <tr>\n",
              "      <th>4</th>\n",
              "      <td>5.9</td>\n",
              "      <td>55</td>\n",
              "      <td>Chicken Pulao</td>\n",
              "    </tr>\n",
              "    <tr>\n",
              "      <th>3</th>\n",
              "      <td>5.9</td>\n",
              "      <td>95</td>\n",
              "      <td>Chicken Pulao</td>\n",
              "    </tr>\n",
              "    <tr>\n",
              "      <th>2</th>\n",
              "      <td>5.9</td>\n",
              "      <td>62</td>\n",
              "      <td>Karahi Ghosht</td>\n",
              "    </tr>\n",
              "    <tr>\n",
              "      <th>1</th>\n",
              "      <td>6.2</td>\n",
              "      <td>92</td>\n",
              "      <td>Biryani</td>\n",
              "    </tr>\n",
              "    <tr>\n",
              "      <th>0</th>\n",
              "      <td>5.8</td>\n",
              "      <td>101</td>\n",
              "      <td>Chicken Pulao</td>\n",
              "    </tr>\n",
              "  </tbody>\n",
              "</table>\n",
              "<p>87 rows × 3 columns</p>\n",
              "</div>"
            ],
            "text/plain": [
              "    height  weight favourite_dish\n",
              "86     5.1      96        Biryani\n",
              "85     6.2      68  Chicken Pulao\n",
              "84     5.4      61        Biryani\n",
              "83     5.9      75  Karahi Ghosht\n",
              "82     5.4      55          Pasta\n",
              "..     ...     ...            ...\n",
              "4      5.9      55  Chicken Pulao\n",
              "3      5.9      95  Chicken Pulao\n",
              "2      5.9      62  Karahi Ghosht\n",
              "1      6.2      92        Biryani\n",
              "0      5.8     101  Chicken Pulao\n",
              "\n",
              "[87 rows x 3 columns]"
            ]
          },
          "execution_count": 19,
          "metadata": {},
          "output_type": "execute_result"
        }
      ],
      "source": [
        "df.sort_index(ascending=False) # we can sort the dataframe in descending form"
      ]
    },
    {
      "cell_type": "code",
      "execution_count": null,
      "id": "6aa90267-a9de-49d4-bcc1-f9428f8f0420",
      "metadata": {
        "id": "6aa90267-a9de-49d4-bcc1-f9428f8f0420",
        "outputId": "cdeda018-962f-4ddb-cf7d-8207f4979d2c"
      },
      "outputs": [
        {
          "data": {
            "text/html": [
              "<div>\n",
              "<style scoped>\n",
              "    .dataframe tbody tr th:only-of-type {\n",
              "        vertical-align: middle;\n",
              "    }\n",
              "\n",
              "    .dataframe tbody tr th {\n",
              "        vertical-align: top;\n",
              "    }\n",
              "\n",
              "    .dataframe thead th {\n",
              "        text-align: right;\n",
              "    }\n",
              "</style>\n",
              "<table border=\"1\" class=\"dataframe\">\n",
              "  <thead>\n",
              "    <tr style=\"text-align: right;\">\n",
              "      <th></th>\n",
              "      <th>height</th>\n",
              "      <th>weight</th>\n",
              "      <th>favourite_dish</th>\n",
              "    </tr>\n",
              "  </thead>\n",
              "  <tbody>\n",
              "    <tr>\n",
              "      <th>26</th>\n",
              "      <td>5.0</td>\n",
              "      <td>25</td>\n",
              "      <td>Biryani</td>\n",
              "    </tr>\n",
              "    <tr>\n",
              "      <th>35</th>\n",
              "      <td>5.0</td>\n",
              "      <td>31</td>\n",
              "      <td>Biryani</td>\n",
              "    </tr>\n",
              "    <tr>\n",
              "      <th>44</th>\n",
              "      <td>5.2</td>\n",
              "      <td>48</td>\n",
              "      <td>Biryani</td>\n",
              "    </tr>\n",
              "    <tr>\n",
              "      <th>42</th>\n",
              "      <td>5.6</td>\n",
              "      <td>49</td>\n",
              "      <td>Chicken Pulao</td>\n",
              "    </tr>\n",
              "    <tr>\n",
              "      <th>40</th>\n",
              "      <td>5.0</td>\n",
              "      <td>50</td>\n",
              "      <td>Chicken Pulao</td>\n",
              "    </tr>\n",
              "    <tr>\n",
              "      <th>...</th>\n",
              "      <td>...</td>\n",
              "      <td>...</td>\n",
              "      <td>...</td>\n",
              "    </tr>\n",
              "    <tr>\n",
              "      <th>86</th>\n",
              "      <td>5.1</td>\n",
              "      <td>96</td>\n",
              "      <td>Biryani</td>\n",
              "    </tr>\n",
              "    <tr>\n",
              "      <th>0</th>\n",
              "      <td>5.8</td>\n",
              "      <td>101</td>\n",
              "      <td>Chicken Pulao</td>\n",
              "    </tr>\n",
              "    <tr>\n",
              "      <th>33</th>\n",
              "      <td>5.1</td>\n",
              "      <td>103</td>\n",
              "      <td>Chapel Kaba</td>\n",
              "    </tr>\n",
              "    <tr>\n",
              "      <th>34</th>\n",
              "      <td>6.0</td>\n",
              "      <td>110</td>\n",
              "      <td>Chapel Kaba</td>\n",
              "    </tr>\n",
              "    <tr>\n",
              "      <th>75</th>\n",
              "      <td>6.0</td>\n",
              "      <td>125</td>\n",
              "      <td>Chapel Kaba</td>\n",
              "    </tr>\n",
              "  </tbody>\n",
              "</table>\n",
              "<p>87 rows × 3 columns</p>\n",
              "</div>"
            ],
            "text/plain": [
              "    height  weight favourite_dish\n",
              "26     5.0      25        Biryani\n",
              "35     5.0      31        Biryani\n",
              "44     5.2      48        Biryani\n",
              "42     5.6      49  Chicken Pulao\n",
              "40     5.0      50  Chicken Pulao\n",
              "..     ...     ...            ...\n",
              "86     5.1      96        Biryani\n",
              "0      5.8     101  Chicken Pulao\n",
              "33     5.1     103    Chapel Kaba\n",
              "34     6.0     110    Chapel Kaba\n",
              "75     6.0     125    Chapel Kaba\n",
              "\n",
              "[87 rows x 3 columns]"
            ]
          },
          "execution_count": 22,
          "metadata": {},
          "output_type": "execute_result"
        }
      ],
      "source": [
        "df.sort_values(by=\"weight\")"
      ]
    },
    {
      "cell_type": "code",
      "execution_count": null,
      "id": "c0e6ecd3-07d9-44d6-ae3e-5d2f878e6049",
      "metadata": {
        "id": "c0e6ecd3-07d9-44d6-ae3e-5d2f878e6049"
      },
      "outputs": [],
      "source": []
    }
  ],
  "metadata": {
    "kernelspec": {
      "display_name": "Python 3 (ipykernel)",
      "language": "python",
      "name": "python3"
    },
    "language_info": {
      "codemirror_mode": {
        "name": "ipython",
        "version": 3
      },
      "file_extension": ".py",
      "mimetype": "text/x-python",
      "name": "python",
      "nbconvert_exporter": "python",
      "pygments_lexer": "ipython3",
      "version": "3.10.9"
    },
    "colab": {
      "provenance": [],
      "include_colab_link": true
    }
  },
  "nbformat": 4,
  "nbformat_minor": 5
}