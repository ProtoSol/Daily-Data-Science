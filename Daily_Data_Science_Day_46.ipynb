{
  "nbformat": 4,
  "nbformat_minor": 0,
  "metadata": {
    "colab": {
      "provenance": [],
      "authorship_tag": "ABX9TyNQI0qVSIzknmK8kA0EgnEJ",
      "include_colab_link": true
    },
    "kernelspec": {
      "name": "python3",
      "display_name": "Python 3"
    },
    "language_info": {
      "name": "python"
    }
  },
  "cells": [
    {
      "cell_type": "markdown",
      "metadata": {
        "id": "view-in-github",
        "colab_type": "text"
      },
      "source": [
        "<a href=\"https://colab.research.google.com/github/ProtoSol/Daily-Data-Science/blob/main/Daily_Data_Science_Day_46.ipynb\" target=\"_parent\"><img src=\"https://colab.research.google.com/assets/colab-badge.svg\" alt=\"Open In Colab\"/></a>"
      ]
    },
    {
      "cell_type": "markdown",
      "source": [
        "# Mathematics for Data Science"
      ],
      "metadata": {
        "id": "K3oe-_Jtl4SQ"
      }
    },
    {
      "cell_type": "markdown",
      "source": [
        "**Mathematic is a formal science that deals with abstract concepts of number, quantity, structure, space, change, and relations, utilizing a system of logical reasoning and rigorous proof to explore and explain the concepts.**"
      ],
      "metadata": {
        "id": "WIKBi7simA_1"
      }
    },
    {
      "cell_type": "markdown",
      "source": [
        "**[What is Mathematics?](https://en.wikipedia.org/wiki/Mathematics)**\n",
        "\n",
        "**[Math is called the Queen of Sciences](https://medium.com/intuition/why-is-mathematics-the-queen-of-all-sciences-9f0a58b73306)**"
      ],
      "metadata": {
        "id": "pxTwXZB3pdWf"
      }
    },
    {
      "cell_type": "markdown",
      "source": [
        "## Branches of Mathematics"
      ],
      "metadata": {
        "id": "uDXy7YLHqNHX"
      }
    },
    {
      "cell_type": "markdown",
      "source": [
        "The Branches of `Mathematics` as follows -\n",
        "\n",
        "- Pure Mathematics -\n",
        "  - Number Theory\n",
        "  - Algebra\n",
        "  - Arithematic\n",
        "  - Combinatorics\n",
        "  - Topology\n",
        "  - Mathematical Analysis\n",
        "- Applied Mathematics\n",
        "  - Calculus\n",
        "  - Statistics\n",
        "  - Probability\n",
        "  - Set Theory\n",
        "  - Trignometry"
      ],
      "metadata": {
        "id": "_SYskpI1qpEf"
      }
    },
    {
      "cell_type": "markdown",
      "source": [
        "`Other Branches` ->\n",
        "- Discrete Mathematics\n",
        "- Operational Research (Experimental)"
      ],
      "metadata": {
        "id": "Vzp9HbsAtIMW"
      }
    },
    {
      "cell_type": "markdown",
      "source": [
        "## **Difference between Applied and Pure Mathematics**"
      ],
      "metadata": {
        "id": "K0Nkt1pErW-1"
      }
    },
    {
      "cell_type": "markdown",
      "source": [
        "`Applied Mathematics`\n",
        "- **Objective:** Focused on the application of mathematical methods to solve real-world problems in science, engineering, economics, and other fields. Concerned with developing practical techniques and computational tools to address specific issues.\n",
        "- **Methodologies:** Emphasizes mathematical modeling, simulations, numerical methods, and optimization techniques. Often involves interdisciplinary collaboration with experts in other fields to create models that can predict and solve practical problems.\n",
        "- **Applications:** Used in a wide array of fields such as physics, engineering, computer science, biology, economics, and finance. Examples include differential equations for modeling physical systems, statistics for data analysis, and operations research for optimizing business processes.\n",
        "- **Examples of Applied Mathematics Topics:** Numerical analysis, Statistical analysis, Computational mathematics, Mathematical biology, Financial mathematics, Operations research\n",
        "\n",
        "`Pure Mathematics`\n",
        "- **Objective:** Focused on abstract concepts and theoretical frameworks without immediate concern for practical applications. Driven by intellectual curiosity and the desire to explore the foundations and structures of mathematics itself.\n",
        "- **Methodologies:** Emphasizes rigorous proofs, logical deduction, and the development of new mathematical theories. Often involves studying mathematical objects and their properties, relationships, and underlying principles.\n",
        "- **Applications:** Pure mathematics can sometimes lead to practical applications, but these are often discovered long after the theoretical groundwork is laid. The primary goal is to expand mathematical knowledge and understanding.\n",
        "- **Examples of Pure Mathematics Topics:** Algebra (e.g., group theory, ring theory), Analysis (e.g., real analysis, complex analysis), Topology (e.g., point-set topology, algebraic topology), Geometry (e.g., differential geometry, algebraic geometry), Number theory, Mathematical logic\n",
        "\n",
        "`Overlap and Interconnection`\n",
        "- While pure and applied mathematics are distinct in their objectives and approaches, they often influence and enrich each other. Discoveries in pure mathematics can lead to new techniques and tools for applied mathematics, and vice versa. For instance, number theory, once considered purely theoretical, now underpins modern cryptography, a highly practical field.\n",
        "\n",
        "`Summary`\n",
        "- **Applied Mathematics:** Practical, problem-solving focus; used in various scientific and engineering disciplines.\n",
        "- **Pure Mathematics:** Abstract, theoretical focus; driven by curiosity and the pursuit of knowledge for its own sake.\n",
        "\n",
        "Understanding both pure and applied mathematics provides a comprehensive view of the mathematical landscape and highlights the dynamic interplay between theory and practice.\n"
      ],
      "metadata": {
        "id": "12JRAqWRtCv-"
      }
    },
    {
      "cell_type": "markdown",
      "source": [
        "## **Explanation of Pure and Applied Mathematics Topics**"
      ],
      "metadata": {
        "id": "O6IW43e_sNQH"
      }
    },
    {
      "cell_type": "markdown",
      "source": [
        "`Pure Mathematics`\n",
        "\n",
        "- **Number Theory:** The study of integers and the relationships between them. It includes topics such as prime numbers, divisibility, and modular arithmetic.\n",
        "- **Algebra:** The branch of mathematics dealing with symbols and the rules for manipulating these symbols. It includes the study of structures such as groups, rings, and fields.\n",
        "- **Arithmetic:** The branch of mathematics dealing with basic number operations such as addition, subtraction, multiplication, and division.\n",
        "- **Combinatorics:** The study of counting, arrangement, and combination of objects. It includes topics such as permutations, combinations, and graph theory.\n",
        "- **Topology:** The study of properties that remain invariant under continuous deformations. It includes topics such as continuity, compactness, and connectedness.\n",
        "- **Mathematical Analysis:** The study of limits, continuity, derivatives, and integrals. It includes real and complex analysis and focuses on rigorous foundations for calculus and related areas.\n",
        "\n",
        "`Applied Mathematics`\n",
        "\n",
        "- **Calculus:** The branch of mathematics that deals with the study of rates of change (differential calculus) and the accumulation of quantities (integral calculus). It is widely used in science and engineering to model dynamic systems.\n",
        "- **Statistics:** The study of data collection, analysis, interpretation, presentation, and organization. It is used in various fields to make informed decisions based on data.\n",
        "- **Probability:** The study of randomness and uncertainty. It includes the analysis of random events and the likelihood of their occurrence.\n",
        "- **Set Theory:** The study of sets, which are collections of objects. It forms the foundation of most mathematical theories and is used to understand the structure of mathematical objects.\n",
        "- **Trigonometry:** The study of relationships between the angles and sides of triangles. It is widely used in fields such as physics, engineering, and computer science for solving problems involving angles and distances."
      ],
      "metadata": {
        "id": "GONigBzftMPS"
      }
    },
    {
      "cell_type": "markdown",
      "source": [
        "## **Explanation of Operational Research and Discrete Mathematics**"
      ],
      "metadata": {
        "id": "O7O06EKtsxjk"
      }
    },
    {
      "cell_type": "markdown",
      "source": [
        "`Operational Research`\n",
        "- **Objective:** Operational Research (OR) is the application of advanced analytical methods to help make better decisions. It uses mathematical models, statistics, and algorithms to aid in decision-making processes in complex scenarios.\n",
        "- **Methodologies:** OR involves techniques such as linear programming, integer programming, simulation, queuing theory, and network analysis.\n",
        "- **Applications:** It is widely used in industries such as logistics, manufacturing, finance, and healthcare to optimize processes, improve efficiency, and minimize costs.\n",
        "- **Examples of Operational Research Topics:**\n",
        "  - Linear programming\n",
        "  - Network flows\n",
        "  - Inventory management\n",
        "  - Scheduling\n",
        "  - Game theory\n",
        "\n",
        "`Discrete Mathematics`\n",
        "- **Objective:** Discrete Mathematics is the study of mathematical structures that are fundamentally discrete rather than continuous. It deals with objects that can assume only distinct, separated values.\n",
        "- **Methodologies:** Discrete Mathematics includes topics such as graph theory, combinatorics, logic, and set theory. It often involves mathematical reasoning and proof techniques specific to discrete structures.\n",
        "- **Applications:** It is essential in computer science for the development of algorithms, cryptography, network theory, and software development.\n",
        "- **Examples of Discrete Mathematics Topics:**\n",
        "  - Graph theory\n",
        "  - Combinatorics\n",
        "  - Logic\n",
        "  - Set theory\n",
        "  - Discrete probability\n",
        "  - Number theory\n",
        "  - Boolean algebra"
      ],
      "metadata": {
        "id": "NPl0_65cs11U"
      }
    },
    {
      "cell_type": "markdown",
      "source": [
        "# Number Theory"
      ],
      "metadata": {
        "id": "4vGSnRr5tShd"
      }
    },
    {
      "cell_type": "markdown",
      "source": [
        "A Branch of Mathematics which helps to study the set of positive whole numbers and their properties. Sometimes this is referred to as 'Higher Arithmetics'."
      ],
      "metadata": {
        "id": "1xhoRhnPu4hT"
      }
    },
    {
      "cell_type": "markdown",
      "source": [
        "## Number and Their Classes-"
      ],
      "metadata": {
        "id": "vPlJC6EgvQQk"
      }
    },
    {
      "cell_type": "markdown",
      "source": [
        "`Odd Number`\\\n",
        "1,3,5,7,9,11,13,15,17,19\\\n",
        "The Numbers that are not divisible by 2 (x%2 == 1)"
      ],
      "metadata": {
        "id": "neJYb9ntvVA3"
      }
    },
    {
      "cell_type": "markdown",
      "source": [
        "`Even Numbers`\\\n",
        "0,2,4,6,8,10,12,14\\\n",
        "The Numbers that are divisible by 2 (x%2 == 0)"
      ],
      "metadata": {
        "id": "IgQ9T611vq__"
      }
    },
    {
      "cell_type": "markdown",
      "source": [
        "`Square Numbers`\\\n",
        "4,9,16,25,36,49,64,81,100\\\n",
        "These numbers follows the property (a**2)\\"
      ],
      "metadata": {
        "id": "U8Zxl170v1Yp"
      }
    },
    {
      "cell_type": "markdown",
      "source": [
        "`Cube Numbers`\\\n",
        "8,27,64,.......\\\n",
        "These numbers follows the property (a**3)"
      ],
      "metadata": {
        "id": "20SzLHizwQ5q"
      }
    },
    {
      "cell_type": "markdown",
      "source": [
        "These Numbers provide a Report that helps in data driven decision making"
      ],
      "metadata": {
        "id": "phFr0X3rwTm2"
      }
    },
    {
      "cell_type": "markdown",
      "source": [
        "`Prime Numbers`\\\n",
        "2,3,7,11,13,17,19,23,29,31,37,41,43,47,53,59,61,67,71,73,79,83,89,97\\\n",
        "These numbers are divisible only by 1 and itself only"
      ],
      "metadata": {
        "id": "3o1_5bOjwcWK"
      }
    },
    {
      "cell_type": "markdown",
      "source": [
        "`Composite Numbers`\\\n",
        "Numbers greater than 1 and not prime number\\\n",
        "4,6,8,9,10,12,"
      ],
      "metadata": {
        "id": "jr5hvXCuwoAt"
      }
    },
    {
      "cell_type": "markdown",
      "source": [
        "`1 (modulo  4)`\\\n",
        "The numbers that are more than 1 than multiple of 4\\\n",
        "\n",
        "`3 (modulo 4)`\\\n",
        "The numbers that are more than 3 than multiple of 4\\"
      ],
      "metadata": {
        "id": "-UnKV6gLxOwN"
      }
    },
    {
      "cell_type": "markdown",
      "source": [
        "`Triangular Numbers`\\\n",
        "Numbers of the form n(n+1)/2"
      ],
      "metadata": {
        "id": "xhrtvWHIxt66"
      }
    },
    {
      "cell_type": "markdown",
      "source": [
        "`Perfect Numbers`\\\n",
        "A number is perfect if the sum of its positive divisors is equal to the number itself."
      ],
      "metadata": {
        "id": "AzjoYjiey4fB"
      }
    },
    {
      "cell_type": "markdown",
      "source": [
        "`Fibonacci Numbers`\\\n",
        "A sequence of numbers in which each number is the sum of the two preceding ones.\\\n",
        "1,1,2,3,5,8,13,21,34,55,89,144,233,377"
      ],
      "metadata": {
        "id": "qa1aOBdTzTf8"
      }
    },
    {
      "cell_type": "markdown",
      "source": [],
      "metadata": {
        "id": "H6SlDRxN1shG"
      }
    },
    {
      "cell_type": "markdown",
      "source": [
        "## Significance of Number Theory"
      ],
      "metadata": {
        "id": "pnkNvYVj10_w"
      }
    },
    {
      "cell_type": "markdown",
      "source": [
        "1. Cryptography: Securing communications and transactions.\n",
        "2. Computer Science: Algorithm design and coding theory.\n",
        "3. Combinatorics: Analyzing permutations and combinations.\n",
        "4. Internet Security: Establishing secure connections online.\n",
        "5. Number Theory Algorithms: Primality testing and integer factorization.\n",
        "6. Physics: Quantum mechanics and string theory.\n",
        "7. Finance and Economics: Market analysis and algorithmic trading.\n",
        "8. Error Detection: Ensuring data integrity in digital systems.\n",
        "9. Biomedical Engineering: Analyzing biological sequences and medical imaging.\n",
        "10. Data Integrity: The Data(Numbers) stored accurately and consistently.\n",
        "11. Feature Engineering: Selection of relevant feature / column for training."
      ],
      "metadata": {
        "id": "swUjc1CF2XmN"
      }
    },
    {
      "cell_type": "markdown",
      "source": [
        "------"
      ],
      "metadata": {
        "id": "PSEFY-d23C1I"
      }
    },
    {
      "cell_type": "code",
      "source": [],
      "metadata": {
        "id": "w1o8yrn153L9"
      },
      "execution_count": null,
      "outputs": []
    }
  ]
}