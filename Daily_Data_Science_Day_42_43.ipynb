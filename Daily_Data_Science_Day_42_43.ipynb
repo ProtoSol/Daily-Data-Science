{
  "nbformat": 4,
  "nbformat_minor": 0,
  "metadata": {
    "colab": {
      "provenance": [],
      "authorship_tag": "ABX9TyNIeEDyirVKraiyf/pth2H6",
      "include_colab_link": true
    },
    "kernelspec": {
      "name": "python3",
      "display_name": "Python 3"
    },
    "language_info": {
      "name": "python"
    }
  },
  "cells": [
    {
      "cell_type": "markdown",
      "metadata": {
        "id": "view-in-github",
        "colab_type": "text"
      },
      "source": [
        "<a href=\"https://colab.research.google.com/github/ProtoSol/Daily-Data-Science/blob/main/Daily_Data_Science_Day_42_43.ipynb\" target=\"_parent\"><img src=\"https://colab.research.google.com/assets/colab-badge.svg\" alt=\"Open In Colab\"/></a>"
      ]
    },
    {
      "cell_type": "markdown",
      "source": [
        "# Revision of the Numpy Library"
      ],
      "metadata": {
        "id": "n4VH6Cl1zMTH"
      }
    },
    {
      "cell_type": "markdown",
      "source": [
        "The Link to the Numpy -> [Numpy](https://numpy.org/)\n",
        "\n",
        "`What is Numpy?`\n",
        "\n",
        "NumPy (Numerical Python) is a library for the Python programming language that adds support for large, multi-dimensional arrays and matrices, along with a large collection of high-level mathematical functions to operate on these arrays. It is designed to provide efficient numerical computation and is widely used in scientific computing and data analysis"
      ],
      "metadata": {
        "id": "n-8ch4B7zUz3"
      }
    },
    {
      "cell_type": "code",
      "source": [
        "# Installing numpy library\n",
        "# !pip install numpy\n",
        "\n",
        "# Import the Library\n",
        "import numpy as np"
      ],
      "metadata": {
        "id": "SdMJzm1Vzd2S"
      },
      "execution_count": 1,
      "outputs": []
    },
    {
      "cell_type": "markdown",
      "source": [
        "## Basic Commands of Numpy"
      ],
      "metadata": {
        "id": "YIwu1L9S0df0"
      }
    },
    {
      "cell_type": "markdown",
      "source": [
        "Simple Array"
      ],
      "metadata": {
        "id": "4U_gOBe80_Ec"
      }
    },
    {
      "cell_type": "code",
      "source": [
        "arr = np.array([1, 2, 3, 4, 5])\n",
        "print(arr)"
      ],
      "metadata": {
        "colab": {
          "base_uri": "https://localhost:8080/"
        },
        "id": "8y3BIL0N08d_",
        "outputId": "113b0d65-a083-46cf-a966-444504f83128"
      },
      "execution_count": 2,
      "outputs": [
        {
          "output_type": "stream",
          "name": "stdout",
          "text": [
            "[1 2 3 4 5]\n"
          ]
        }
      ]
    },
    {
      "cell_type": "markdown",
      "source": [
        "Zeros filled Array, Ones filled array"
      ],
      "metadata": {
        "id": "_LyrSJl-0-V7"
      }
    },
    {
      "cell_type": "code",
      "source": [
        "arr = np.zeros(2)\n",
        "arr2 = np.ones(2)\n",
        "print(arr)\n",
        "print(arr2)"
      ],
      "metadata": {
        "colab": {
          "base_uri": "https://localhost:8080/"
        },
        "id": "Z2TAHu3t1J2_",
        "outputId": "e3e2aae1-ccbf-4414-b10a-4bbd1cb21f0d"
      },
      "execution_count": 3,
      "outputs": [
        {
          "output_type": "stream",
          "name": "stdout",
          "text": [
            "[0. 0.]\n",
            "[1. 1.]\n"
          ]
        }
      ]
    },
    {
      "cell_type": "markdown",
      "source": [
        "Empty Array"
      ],
      "metadata": {
        "id": "I7bPSOin1OGV"
      }
    },
    {
      "cell_type": "code",
      "source": [
        "np.empty(2)"
      ],
      "metadata": {
        "colab": {
          "base_uri": "https://localhost:8080/"
        },
        "id": "ZZexoAb91Tq8",
        "outputId": "81a2e631-9e1b-471a-fb96-624c23453099"
      },
      "execution_count": 5,
      "outputs": [
        {
          "output_type": "execute_result",
          "data": {
            "text/plain": [
              "array([1., 1.])"
            ]
          },
          "metadata": {},
          "execution_count": 5
        }
      ]
    },
    {
      "cell_type": "markdown",
      "source": [
        "Creating array for a range of number n"
      ],
      "metadata": {
        "id": "ukqX8Tb81ZfX"
      }
    },
    {
      "cell_type": "code",
      "source": [
        "np.arange(4)"
      ],
      "metadata": {
        "colab": {
          "base_uri": "https://localhost:8080/"
        },
        "id": "4r1cYnV81gO2",
        "outputId": "7568318e-1a04-42aa-f465-722e59c396ec"
      },
      "execution_count": 6,
      "outputs": [
        {
          "output_type": "execute_result",
          "data": {
            "text/plain": [
              "array([0, 1, 2, 3])"
            ]
          },
          "metadata": {},
          "execution_count": 6
        }
      ]
    },
    {
      "cell_type": "markdown",
      "source": [
        "Making two dimensional Array"
      ],
      "metadata": {
        "id": "Q0W3jXKg1gnq"
      }
    },
    {
      "cell_type": "code",
      "source": [
        "a = np.array([1, 2, 3])\n",
        "print(a)\n",
        "a2 = a[np.newaxis, :]\n",
        "print(a2)"
      ],
      "metadata": {
        "colab": {
          "base_uri": "https://localhost:8080/"
        },
        "id": "0FWJbFz514tG",
        "outputId": "7ea0a933-2d56-477f-df2f-87eddeb8f258"
      },
      "execution_count": 7,
      "outputs": [
        {
          "output_type": "stream",
          "name": "stdout",
          "text": [
            "[1 2 3]\n",
            "[[1 2 3]]\n"
          ]
        }
      ]
    },
    {
      "cell_type": "markdown",
      "source": [
        "Finding the shape of the Array"
      ],
      "metadata": {
        "id": "njY_sFWf2BQv"
      }
    },
    {
      "cell_type": "code",
      "source": [
        "print(a.shape)\n",
        "print(a2.shape)"
      ],
      "metadata": {
        "colab": {
          "base_uri": "https://localhost:8080/"
        },
        "id": "4IzU-Kcw2GBe",
        "outputId": "ff7d00be-9f8b-431b-8f7a-856033ec5c95"
      },
      "execution_count": 9,
      "outputs": [
        {
          "output_type": "stream",
          "name": "stdout",
          "text": [
            "(3,)\n",
            "(1, 3)\n"
          ]
        }
      ]
    },
    {
      "cell_type": "markdown",
      "source": [
        "Make an array and fill the array with one value."
      ],
      "metadata": {
        "id": "7ZYfUanh32iW"
      }
    },
    {
      "cell_type": "code",
      "source": [
        "a = np.full((2, 2), 7)\n",
        "print(a)"
      ],
      "metadata": {
        "colab": {
          "base_uri": "https://localhost:8080/"
        },
        "id": "fdmhEYYQ31_-",
        "outputId": "f61515d6-99d8-4765-e77c-a14d48c21673"
      },
      "execution_count": 10,
      "outputs": [
        {
          "output_type": "stream",
          "name": "stdout",
          "text": [
            "[[7 7]\n",
            " [7 7]]\n"
          ]
        }
      ]
    },
    {
      "cell_type": "markdown",
      "source": [
        "Make Identity Matrix"
      ],
      "metadata": {
        "id": "uRuYPVsT4G1W"
      }
    },
    {
      "cell_type": "code",
      "source": [
        "identity = np.eye(5)\n",
        "print(identity)"
      ],
      "metadata": {
        "colab": {
          "base_uri": "https://localhost:8080/"
        },
        "id": "rzK4hH2t4JW5",
        "outputId": "a3272957-6e4a-44d2-f712-b93bf647f66f"
      },
      "execution_count": 11,
      "outputs": [
        {
          "output_type": "stream",
          "name": "stdout",
          "text": [
            "[[1. 0. 0. 0. 0.]\n",
            " [0. 1. 0. 0. 0.]\n",
            " [0. 0. 1. 0. 0.]\n",
            " [0. 0. 0. 1. 0.]\n",
            " [0. 0. 0. 0. 1.]]\n"
          ]
        }
      ]
    },
    {
      "cell_type": "markdown",
      "source": [
        "We can check the datatype of the array"
      ],
      "metadata": {
        "id": "56GHzgr-4OKl"
      }
    },
    {
      "cell_type": "code",
      "source": [
        "a = np.array([1, 2, 3])\n",
        "print(a.dtype) # Type of Data in the Array\n",
        "print(type(a)) # Type of the Data"
      ],
      "metadata": {
        "colab": {
          "base_uri": "https://localhost:8080/"
        },
        "id": "8miBGpmY4SLk",
        "outputId": "549678eb-46f6-4bef-80ed-a815ba0a718c"
      },
      "execution_count": 14,
      "outputs": [
        {
          "output_type": "stream",
          "name": "stdout",
          "text": [
            "int64\n",
            "<class 'numpy.ndarray'>\n"
          ]
        }
      ]
    },
    {
      "cell_type": "markdown",
      "source": [
        "To get the Dimension of the Array"
      ],
      "metadata": {
        "id": "C2-CBjXj5AZm"
      }
    },
    {
      "cell_type": "code",
      "source": [
        "a.ndim"
      ],
      "metadata": {
        "colab": {
          "base_uri": "https://localhost:8080/"
        },
        "id": "m4Ahqst04_ru",
        "outputId": "37675f25-d3f0-466d-f4db-c2b6d7b627da"
      },
      "execution_count": 15,
      "outputs": [
        {
          "output_type": "execute_result",
          "data": {
            "text/plain": [
              "1"
            ]
          },
          "metadata": {},
          "execution_count": 15
        }
      ]
    },
    {
      "cell_type": "markdown",
      "source": [
        "To find the size of the Array"
      ],
      "metadata": {
        "id": "Tzj0oRMF5JTY"
      }
    },
    {
      "cell_type": "code",
      "source": [
        "a.size"
      ],
      "metadata": {
        "colab": {
          "base_uri": "https://localhost:8080/"
        },
        "id": "kPtwiU6Z5M6t",
        "outputId": "24c38406-4cf2-49f2-9550-85730db1715b"
      },
      "execution_count": 16,
      "outputs": [
        {
          "output_type": "execute_result",
          "data": {
            "text/plain": [
              "3"
            ]
          },
          "metadata": {},
          "execution_count": 16
        }
      ]
    },
    {
      "cell_type": "markdown",
      "source": [
        "---"
      ],
      "metadata": {
        "id": "8P-lW0f12Ksk"
      }
    },
    {
      "cell_type": "markdown",
      "source": [
        "\n",
        "In data science, one-dimensional (1D), two-dimensional (2D), and three-dimensional (3D) arrays are used to represent and manipulate various types of data. Each type of array serves a specific purpose depending on the nature of the data and the operations needed to be performed on it.\\\n",
        "`1D Arrays`\\\n",
        "1D arrays are used to represent a single sequence of values, such as:\n",
        "- A list of numbers\n",
        "- A series of dates\n",
        "- A sequence of characters\n",
        "They are commonly used in data science for tasks like:\n",
        "- Data preprocessing\n",
        "- Feature engineering\n",
        "- Statistical analysis\n",
        "- Machine learning model inputs\\\n",
        "`2D Arrays`\\\n",
        "2D arrays, also known as matrices, are used to represent tables or grids of data. They are commonly used in data science for tasks like:\n",
        "- Data visualization\n",
        "- Data manipulation\n",
        "- Matrix operations\n",
        "- Linear algebra\n",
        "- Machine learning model inputs\\\n",
        "`3D Arrays`\\\n",
        "3D arrays are used to represent three-dimensional data structures, such as:\n",
        "- 3D images\n",
        "- 3D models\n",
        "- 3D data in scientific simulations\n",
        "- 3D data in machine learning models\n",
        "They are commonly used in data science for tasks like:\n",
        "- Image processing\n",
        "- Computer vision\n",
        "- Scientific simulations\n",
        "- Machine learning model inputs\n",
        "\n",
        "\n",
        "In summary, the choice of array dimension depends on the nature of the data and the operations needed to be performed on it."
      ],
      "metadata": {
        "id": "uX5ToDqe29Jd"
      }
    },
    {
      "cell_type": "markdown",
      "source": [
        "## Basic Operations"
      ],
      "metadata": {
        "id": "Y7lQYXJK3LwT"
      }
    },
    {
      "cell_type": "markdown",
      "source": [
        "Subtraction of elements"
      ],
      "metadata": {
        "id": "Krt5fbHO5ZPf"
      }
    },
    {
      "cell_type": "code",
      "source": [
        "g = a - 2\n",
        "print(g)"
      ],
      "metadata": {
        "colab": {
          "base_uri": "https://localhost:8080/"
        },
        "id": "ia9RYCEm5T1G",
        "outputId": "e8bb263d-ac5f-4141-fac7-2b8cb9dcd99c"
      },
      "execution_count": 18,
      "outputs": [
        {
          "output_type": "stream",
          "name": "stdout",
          "text": [
            "[-1  0  1]\n"
          ]
        }
      ]
    },
    {
      "cell_type": "markdown",
      "source": [
        "Addition of Two Arrays"
      ],
      "metadata": {
        "id": "n-JofBa95X4k"
      }
    },
    {
      "cell_type": "code",
      "source": [
        "a = np.array([1, 2, 3])\n",
        "b = np.array([4, 5, 6])\n",
        "c = a + b\n",
        "print(c)"
      ],
      "metadata": {
        "colab": {
          "base_uri": "https://localhost:8080/"
        },
        "id": "UZnd26YX5kuq",
        "outputId": "83761354-1da2-4c92-e9ba-8c97a7e6379f"
      },
      "execution_count": 19,
      "outputs": [
        {
          "output_type": "stream",
          "name": "stdout",
          "text": [
            "[5 7 9]\n"
          ]
        }
      ]
    },
    {
      "cell_type": "code",
      "source": [
        "# Another way\n",
        "a = np.array([1, 2, 3])\n",
        "b = np.array([4, 5, 6])\n",
        "c = np.add(a, b)\n",
        "print(c)"
      ],
      "metadata": {
        "colab": {
          "base_uri": "https://localhost:8080/"
        },
        "id": "ZIh93K_35l52",
        "outputId": "7ebda024-9ce1-46d0-ddd7-f1986ce9a117"
      },
      "execution_count": 20,
      "outputs": [
        {
          "output_type": "stream",
          "name": "stdout",
          "text": [
            "[5 7 9]\n"
          ]
        }
      ]
    },
    {
      "cell_type": "markdown",
      "source": [
        "Multiplication of Arrays"
      ],
      "metadata": {
        "id": "0jjVi_G95rBX"
      }
    },
    {
      "cell_type": "code",
      "source": [
        "a = np.array([1, 2, 3])\n",
        "b = np.array([4, 5, 6])\n",
        "c = a * b\n",
        "print(c)"
      ],
      "metadata": {
        "colab": {
          "base_uri": "https://localhost:8080/"
        },
        "id": "ZyL_hpf95uiW",
        "outputId": "f6176065-3a32-4ece-cccf-04635d83f068"
      },
      "execution_count": 21,
      "outputs": [
        {
          "output_type": "stream",
          "name": "stdout",
          "text": [
            "[ 4 10 18]\n"
          ]
        }
      ]
    },
    {
      "cell_type": "markdown",
      "source": [
        "Division of Arrays"
      ],
      "metadata": {
        "id": "YWJS0ph45vRs"
      }
    },
    {
      "cell_type": "code",
      "source": [
        "a = np.array([1, 2, 3])\n",
        "b = np.array([4, 5, 6])\n",
        "c = a / b\n",
        "print(c)"
      ],
      "metadata": {
        "colab": {
          "base_uri": "https://localhost:8080/"
        },
        "id": "_KkDDv0r5xkp",
        "outputId": "2bafe127-944e-4dce-d071-6179a2680c2a"
      },
      "execution_count": 22,
      "outputs": [
        {
          "output_type": "stream",
          "name": "stdout",
          "text": [
            "[0.25 0.4  0.5 ]\n"
          ]
        }
      ]
    }
  ]
}