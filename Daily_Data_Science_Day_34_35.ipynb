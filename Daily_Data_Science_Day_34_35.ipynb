{
  "nbformat": 4,
  "nbformat_minor": 0,
  "metadata": {
    "colab": {
      "provenance": [],
      "authorship_tag": "ABX9TyNsT/2NTpYQ53JN2PiEVLnU",
      "include_colab_link": true
    },
    "kernelspec": {
      "name": "python3",
      "display_name": "Python 3"
    },
    "language_info": {
      "name": "python"
    }
  },
  "cells": [
    {
      "cell_type": "markdown",
      "metadata": {
        "id": "view-in-github",
        "colab_type": "text"
      },
      "source": [
        "<a href=\"https://colab.research.google.com/github/ProtoSol/Daily-Data-Science/blob/main/Daily_Data_Science_Day_34_35.ipynb\" target=\"_parent\"><img src=\"https://colab.research.google.com/assets/colab-badge.svg\" alt=\"Open In Colab\"/></a>"
      ]
    },
    {
      "cell_type": "markdown",
      "source": [
        "# Revision of Data Visualization"
      ],
      "metadata": {
        "id": "_Hd15PHxtg77"
      }
    },
    {
      "cell_type": "markdown",
      "source": [
        "It is a good prcatice to make visualization of the Insight made, As it helps a person from non coding background to understand the Insight in layman terms."
      ],
      "metadata": {
        "id": "aj0r4jOLtsmI"
      }
    },
    {
      "cell_type": "markdown",
      "source": [
        "******\n",
        "**Data Visualization ->** It is the representation of data in a graphical format. It allows user to see and understand patterns, trends, and insights in data. From simpler bar charts to intricate 3D models, Data visualization encompasses a wide range of techniques.\n",
        "******"
      ],
      "metadata": {
        "id": "FF0wNVZ1uMv5"
      }
    },
    {
      "cell_type": "markdown",
      "source": [
        "Why Data Visualization is Important ?\n",
        "\n",
        "1. Summarize\n",
        "2. Presentation becomes easier\n",
        "3. Easy for Stakeholders to understand\n",
        "4. Trends\n",
        "\n",
        "It can be a type of EDA that can be done is short amount of time."
      ],
      "metadata": {
        "id": "PtLmVBm-v3pJ"
      }
    },
    {
      "cell_type": "markdown",
      "source": [
        "******\n",
        "\\\n",
        "What Data Visualization Accomplishes?\n",
        "\n",
        "1. Quick Insights from Data\n",
        "2. Informed Decision Making\n",
        "3. Engagement from the Audience\n",
        "4. Data Exploration"
      ],
      "metadata": {
        "id": "sp7CLziExK-8"
      }
    },
    {
      "cell_type": "markdown",
      "source": [
        "******\n",
        "\\\n",
        "Key Principles for Data Visualization ->\n",
        "\n",
        "1. Simplicity, less is more\n",
        "2. Consistency, making sure to have same color pallet, proper fonts etc.\n",
        "3. Accuracy, plot what data says\n",
        "4. Interactivity, make plots Interactive *(User Interactive)*"
      ],
      "metadata": {
        "id": "4sZ4r1UbyNh4"
      }
    },
    {
      "cell_type": "markdown",
      "source": [
        "******\n",
        "\\\n",
        "Popular Tools for Data Visualization ->\n",
        "\n",
        "1. Microsoft Excel\n",
        "2. Tableau\n",
        "3. Power BI *(Dashboard)*\n",
        "4. Python *(Libraries)*\n",
        "5. R *(Libraries)*"
      ],
      "metadata": {
        "id": "oTgm5Tchy5zn"
      }
    },
    {
      "cell_type": "markdown",
      "source": [
        "Libraries in Python used for Data Visualization ->\n",
        "\n",
        "1. Pandas\n",
        "2. Matplotlib\n",
        "3. Seaborn\n",
        "4. Plotly"
      ],
      "metadata": {
        "id": "wVNQVsn8zj73"
      }
    },
    {
      "cell_type": "code",
      "source": [],
      "metadata": {
        "id": "UuRY7Mzx0d3d"
      },
      "execution_count": null,
      "outputs": []
    }
  ]
}